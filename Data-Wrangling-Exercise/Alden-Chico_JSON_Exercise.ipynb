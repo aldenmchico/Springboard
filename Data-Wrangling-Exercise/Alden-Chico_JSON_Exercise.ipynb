{
 "cells": [
  {
   "cell_type": "markdown",
   "metadata": {},
   "source": [
    "# Mini-Project: JSON\n",
    "### Alden Chico"
   ]
  },
  {
   "cell_type": "markdown",
   "metadata": {},
   "source": [
    "****\n",
    "## JSON exercise\n",
    "\n",
    "Using data in file 'data/world_bank_projects.json' and the techniques demonstrated above,\n",
    "1. Find the 10 countries with most projects\n",
    "2. Find the top 10 major project themes (using column 'mjtheme_namecode')\n",
    "3. In 2. above you will notice that some entries have only the code and the name is missing. Create a dataframe with the missing names filled in."
   ]
  },
  {
   "cell_type": "markdown",
   "metadata": {},
   "source": [
    "### Preliminary Setup "
   ]
  },
  {
   "cell_type": "code",
   "execution_count": 2,
   "metadata": {},
   "outputs": [],
   "source": [
    "import pandas as pd"
   ]
  },
  {
   "cell_type": "code",
   "execution_count": 3,
   "metadata": {},
   "outputs": [],
   "source": [
    "'''Import data from json as the DataFrame world_banks'''\n",
    "\n",
    "world_banks = pd.read_json('data/world_bank_projects.json')"
   ]
  },
  {
   "cell_type": "markdown",
   "metadata": {},
   "source": [
    "### Exercise 1: Find the 10 countries with the most projects"
   ]
  },
  {
   "cell_type": "markdown",
   "metadata": {},
   "source": [
    "**Solution**: \n",
    "Group the countries by using the ```countryshortname``` column and count the instances of each country short name. Sort the values in descending order and store the top 10 country names as the DataFrame ```top_countries```."
   ]
  },
  {
   "cell_type": "code",
   "execution_count": 19,
   "metadata": {},
   "outputs": [
    {
     "data": {
      "text/html": [
       "<div>\n",
       "<style scoped>\n",
       "    .dataframe tbody tr th:only-of-type {\n",
       "        vertical-align: middle;\n",
       "    }\n",
       "\n",
       "    .dataframe tbody tr th {\n",
       "        vertical-align: top;\n",
       "    }\n",
       "\n",
       "    .dataframe thead th {\n",
       "        text-align: right;\n",
       "    }\n",
       "</style>\n",
       "<table border=\"1\" class=\"dataframe\">\n",
       "  <thead>\n",
       "    <tr style=\"text-align: right;\">\n",
       "      <th></th>\n",
       "      <th>Number of Projects</th>\n",
       "    </tr>\n",
       "    <tr>\n",
       "      <th>countryshortname</th>\n",
       "      <th></th>\n",
       "    </tr>\n",
       "  </thead>\n",
       "  <tbody>\n",
       "    <tr>\n",
       "      <th>Indonesia</th>\n",
       "      <td>19</td>\n",
       "    </tr>\n",
       "    <tr>\n",
       "      <th>China</th>\n",
       "      <td>19</td>\n",
       "    </tr>\n",
       "    <tr>\n",
       "      <th>Vietnam</th>\n",
       "      <td>17</td>\n",
       "    </tr>\n",
       "    <tr>\n",
       "      <th>India</th>\n",
       "      <td>16</td>\n",
       "    </tr>\n",
       "    <tr>\n",
       "      <th>Yemen, Republic of</th>\n",
       "      <td>13</td>\n",
       "    </tr>\n",
       "    <tr>\n",
       "      <th>Nepal</th>\n",
       "      <td>12</td>\n",
       "    </tr>\n",
       "    <tr>\n",
       "      <th>Bangladesh</th>\n",
       "      <td>12</td>\n",
       "    </tr>\n",
       "    <tr>\n",
       "      <th>Morocco</th>\n",
       "      <td>12</td>\n",
       "    </tr>\n",
       "    <tr>\n",
       "      <th>Mozambique</th>\n",
       "      <td>11</td>\n",
       "    </tr>\n",
       "    <tr>\n",
       "      <th>Africa</th>\n",
       "      <td>11</td>\n",
       "    </tr>\n",
       "  </tbody>\n",
       "</table>\n",
       "</div>"
      ],
      "text/plain": [
       "                    Number of Projects\n",
       "countryshortname                      \n",
       "Indonesia                           19\n",
       "China                               19\n",
       "Vietnam                             17\n",
       "India                               16\n",
       "Yemen, Republic of                  13\n",
       "Nepal                               12\n",
       "Bangladesh                          12\n",
       "Morocco                             12\n",
       "Mozambique                          11\n",
       "Africa                              11"
      ]
     },
     "execution_count": 19,
     "metadata": {},
     "output_type": "execute_result"
    }
   ],
   "source": [
    "top_countries = world_banks.groupby('countryshortname')['countryshortname'].count().sort_values(ascending=False)[:10]\n",
    "top_countries = top_countries.to_frame()\n",
    "top_countries.columns = ['Number of Projects']\n",
    "top_countries"
   ]
  },
  {
   "cell_type": "markdown",
   "metadata": {},
   "source": [
    "### Exercise 2: Find the top 10 major project themes"
   ]
  },
  {
   "cell_type": "markdown",
   "metadata": {},
   "source": [
    "**Solution**: Extract all project theme information from the ```mjtheme_namecode``` column of ```world_banks``` using a for loop and store it into the list ```project_themes```. Create a defaultdict called ```counter``` that counts the number of instances that each theme appears in ```project_themes```. Cast ```counter``` as a DataFrame, specify the counter values in the column as ```Project Theme Amounts```, and sort the amounts in descending order. Store the top ten project themes as the DataFrame ```top_projects```."
   ]
  },
  {
   "cell_type": "code",
   "execution_count": 16,
   "metadata": {},
   "outputs": [],
   "source": [
    "project_themes = []\n",
    "\n",
    "#Append all the name values from the mjtheme_namecode column to project_themes\n",
    "for data in world_banks['mjtheme_namecode']:\n",
    "    for sub_data in data:\n",
    "        project_themes.append(sub_data['name'])"
   ]
  },
  {
   "cell_type": "code",
   "execution_count": 17,
   "metadata": {},
   "outputs": [
    {
     "data": {
      "text/html": [
       "<div>\n",
       "<style scoped>\n",
       "    .dataframe tbody tr th:only-of-type {\n",
       "        vertical-align: middle;\n",
       "    }\n",
       "\n",
       "    .dataframe tbody tr th {\n",
       "        vertical-align: top;\n",
       "    }\n",
       "\n",
       "    .dataframe thead th {\n",
       "        text-align: right;\n",
       "    }\n",
       "</style>\n",
       "<table border=\"1\" class=\"dataframe\">\n",
       "  <thead>\n",
       "    <tr style=\"text-align: right;\">\n",
       "      <th></th>\n",
       "      <th>Project Theme Amounts</th>\n",
       "    </tr>\n",
       "  </thead>\n",
       "  <tbody>\n",
       "    <tr>\n",
       "      <th>Environment and natural resources management</th>\n",
       "      <td>223</td>\n",
       "    </tr>\n",
       "    <tr>\n",
       "      <th>Rural development</th>\n",
       "      <td>202</td>\n",
       "    </tr>\n",
       "    <tr>\n",
       "      <th>Human development</th>\n",
       "      <td>197</td>\n",
       "    </tr>\n",
       "    <tr>\n",
       "      <th>Public sector governance</th>\n",
       "      <td>184</td>\n",
       "    </tr>\n",
       "    <tr>\n",
       "      <th>Social protection and risk management</th>\n",
       "      <td>158</td>\n",
       "    </tr>\n",
       "    <tr>\n",
       "      <th>Financial and private sector development</th>\n",
       "      <td>130</td>\n",
       "    </tr>\n",
       "    <tr>\n",
       "      <th>Social dev/gender/inclusion</th>\n",
       "      <td>119</td>\n",
       "    </tr>\n",
       "    <tr>\n",
       "      <th>Trade and integration</th>\n",
       "      <td>72</td>\n",
       "    </tr>\n",
       "    <tr>\n",
       "      <th>Urban development</th>\n",
       "      <td>47</td>\n",
       "    </tr>\n",
       "    <tr>\n",
       "      <th>Economic management</th>\n",
       "      <td>33</td>\n",
       "    </tr>\n",
       "  </tbody>\n",
       "</table>\n",
       "</div>"
      ],
      "text/plain": [
       "                                              Project Theme Amounts\n",
       "Environment and natural resources management                    223\n",
       "Rural development                                               202\n",
       "Human development                                               197\n",
       "Public sector governance                                        184\n",
       "Social protection and risk management                           158\n",
       "Financial and private sector development                        130\n",
       "Social dev/gender/inclusion                                     119\n",
       "Trade and integration                                            72\n",
       "Urban development                                                47\n",
       "Economic management                                              33"
      ]
     },
     "execution_count": 17,
     "metadata": {},
     "output_type": "execute_result"
    }
   ],
   "source": [
    "#Create a defaultdict counter that counts the number of instances a project theme happens in project_themes\n",
    "from collections import defaultdict\n",
    "counter = defaultdict(int)\n",
    "for project in project_themes:\n",
    "    counter[project] += 1\n",
    "    \n",
    "#Remove instances where the project theme is an empty string\n",
    "counter.pop('')\n",
    "\n",
    "#Create a list from the sorted values from counter\n",
    "counter = pd.DataFrame.from_dict(dict(counter), orient='index')\n",
    "counter.columns = ['Project Theme Amounts']\n",
    "top_projects = counter.sort_values('Project Theme Amounts', ascending=False).head(10)\n",
    "top_projects"
   ]
  },
  {
   "cell_type": "markdown",
   "metadata": {},
   "source": [
    "### Exercise 3: Create a DataFrame with missing name entries from ```mjtheme_namecode``` filled in."
   ]
  },
  {
   "cell_type": "markdown",
   "metadata": {},
   "source": [
    "***Solution 1***: Go through each row in the ```world_banks``` dataframe and loop through each list of dictionaries in the ```'mjtheme_namecode'``` column. If the value of the ```name``` key is ```''```, then replace the string with ```'Not Specified'``` using the ```.replace()``` method. Assert an error if the ```name``` value is an empty string and print the first value of ```world_banks['mjtheme_namecode']``` to show proper string replacement."
   ]
  },
  {
   "cell_type": "code",
   "execution_count": 6,
   "metadata": {},
   "outputs": [
    {
     "data": {
      "text/plain": [
       "[{'code': '8', 'name': 'Human development'},\n",
       " {'code': '11', 'name': 'Not Specified'}]"
      ]
     },
     "execution_count": 6,
     "metadata": {},
     "output_type": "execute_result"
    }
   ],
   "source": [
    "world_banks = pd.read_json('data/world_bank_projects.json')\n",
    "\n",
    "for idx, row in world_banks.iterrows():\n",
    "    for item in row['mjtheme_namecode']:\n",
    "        if item['name'] == '':\n",
    "            item['name'] = item['name'].replace('', 'Not Specified')\n",
    "        assert item['name'] != '', 'Empty string still present'\n",
    "world_banks['mjtheme_namecode'][0]"
   ]
  },
  {
   "cell_type": "markdown",
   "metadata": {},
   "source": [
    "**Solution 2**: Loop through the ```mjtheme_namecode``` column of ```world_banks``` and replace all ```''``` values from the ```name``` key with ```'Not Specified'``` using an if-statement. Assert an error if the ```name``` value is an empty string and print out the first value of ```world_banks['mjtheme_namecode']``` to demonstrate proper missing name entry replacement."
   ]
  },
  {
   "cell_type": "code",
   "execution_count": 7,
   "metadata": {},
   "outputs": [
    {
     "data": {
      "text/plain": [
       "[{'code': '8', 'name': 'Human development'},\n",
       " {'code': '11', 'name': 'Not Specified'}]"
      ]
     },
     "execution_count": 7,
     "metadata": {},
     "output_type": "execute_result"
    }
   ],
   "source": [
    "world_banks = pd.read_json('data/world_bank_projects.json')\n",
    "\n",
    "for data in world_banks['mjtheme_namecode']:\n",
    "    for sub_data in data:\n",
    "        if sub_data['name'] == '':\n",
    "            sub_data['name'] = 'Not Specified'\n",
    "        assert sub_data['name'] != '', 'Empty string still present.'\n",
    "world_banks['mjtheme_namecode'][0]"
   ]
  }
 ],
 "metadata": {
  "kernelspec": {
   "display_name": "Python 3",
   "language": "python",
   "name": "python3"
  },
  "language_info": {
   "codemirror_mode": {
    "name": "ipython",
    "version": 3
   },
   "file_extension": ".py",
   "mimetype": "text/x-python",
   "name": "python",
   "nbconvert_exporter": "python",
   "pygments_lexer": "ipython3",
   "version": "3.7.3"
  }
 },
 "nbformat": 4,
 "nbformat_minor": 1
}
