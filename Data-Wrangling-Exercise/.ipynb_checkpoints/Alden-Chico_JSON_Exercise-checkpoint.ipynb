{
 "cells": [
  {
   "cell_type": "markdown",
   "metadata": {},
   "source": [
    "# Mini-Project: JSON\n",
    "### Alden Chico"
   ]
  },
  {
   "cell_type": "markdown",
   "metadata": {},
   "source": [
    "****\n",
    "## JSON exercise\n",
    "\n",
    "Using data in file 'data/world_bank_projects.json' and the techniques demonstrated above,\n",
    "1. Find the 10 countries with most projects\n",
    "2. Find the top 10 major project themes (using column 'mjtheme_namecode')\n",
    "3. In 2. above you will notice that some entries have only the code and the name is missing. Create a dataframe with the missing names filled in."
   ]
  },
  {
   "cell_type": "markdown",
   "metadata": {},
   "source": [
    "### Preliminary Setup "
   ]
  },
  {
   "cell_type": "code",
   "execution_count": 1,
   "metadata": {},
   "outputs": [],
   "source": [
    "import pandas as pd"
   ]
  },
  {
   "cell_type": "code",
   "execution_count": 2,
   "metadata": {},
   "outputs": [],
   "source": [
    "'''Import data from json as the DataFrame world_banks'''\n",
    "\n",
    "world_banks = pd.read_json('data/world_bank_projects.json')"
   ]
  },
  {
   "cell_type": "markdown",
   "metadata": {},
   "source": [
    "### Exercise 1: Find the 10 countries with the most projects"
   ]
  },
  {
   "cell_type": "markdown",
   "metadata": {},
   "source": [
    "**Solution**: \n",
    "Group the countries by using the ```countryshortname``` column and count the instances of each country short name. Sort the values in descending order and store the top 10 country names as the list ```top_countries```."
   ]
  },
  {
   "cell_type": "code",
   "execution_count": 3,
   "metadata": {},
   "outputs": [
    {
     "data": {
      "text/plain": [
       "['China',\n",
       " 'Indonesia',\n",
       " 'Vietnam',\n",
       " 'India',\n",
       " 'Yemen, Republic of',\n",
       " 'Nepal',\n",
       " 'Bangladesh',\n",
       " 'Morocco',\n",
       " 'Mozambique',\n",
       " 'Africa']"
      ]
     },
     "execution_count": 3,
     "metadata": {},
     "output_type": "execute_result"
    }
   ],
   "source": [
    "top_countries = list(world_banks.groupby('countryshortname').count()\\\n",
    "                     .sort_values('_id', ascending=False).head(10).index)\n",
    "top_countries"
   ]
  },
  {
   "cell_type": "markdown",
   "metadata": {},
   "source": [
    "### Exercise 2: Find the top 10 major project themes"
   ]
  },
  {
   "cell_type": "markdown",
   "metadata": {},
   "source": [
    "**Solution**: Extract all project theme information from the ```mjtheme_namecode``` column of ```world_banks``` using a for loop and store it into the list ```project_themes```. Create a defaultdict called ```counter``` that counts the number of instances that each theme appears in ```project_themes```. Cast ```counter``` as a DataFrame, specify the counter values in the column as ```Project Theme Amounts```, and sort the amounts in descending order. Store the top ten project themes as the list ```top_projects```."
   ]
  },
  {
   "cell_type": "code",
   "execution_count": 4,
   "metadata": {},
   "outputs": [],
   "source": [
    "project_themes = []\n",
    "\n",
    "#Append all the name values from the mjtheme_namecode column to project_themes\n",
    "for data in world_banks['mjtheme_namecode']:\n",
    "    for sub_data in data:\n",
    "        project_themes.append(sub_data['name'])"
   ]
  },
  {
   "cell_type": "code",
   "execution_count": 5,
   "metadata": {},
   "outputs": [
    {
     "data": {
      "text/plain": [
       "['Environment and natural resources management',\n",
       " 'Rural development',\n",
       " 'Human development',\n",
       " 'Public sector governance',\n",
       " 'Social protection and risk management',\n",
       " 'Financial and private sector development',\n",
       " 'Social dev/gender/inclusion',\n",
       " 'Trade and integration',\n",
       " 'Urban development',\n",
       " 'Economic management']"
      ]
     },
     "execution_count": 5,
     "metadata": {},
     "output_type": "execute_result"
    }
   ],
   "source": [
    "#Create a defaultdict that counts the number of instances a project them\n",
    "from collections import defaultdict\n",
    "counter = defaultdict(int)\n",
    "for project in project_themes:\n",
    "    counter[project] += 1\n",
    "counter.pop('')\n",
    "counter = pd.DataFrame.from_dict(dict(counter), orient='index')\n",
    "counter.columns = ['Project Theme Amounts']\n",
    "top_projects = counter.sort_values('Project Theme Amounts', ascending=False).head(10)\n",
    "top_projects = list(top_projects.index)\n",
    "top_projects"
   ]
  },
  {
   "cell_type": "markdown",
   "metadata": {},
   "source": [
    "### Exercise 3: Create a DataFrame with missing name entries from ```mjtheme_namecode``` filled in."
   ]
  },
  {
   "cell_type": "markdown",
   "metadata": {},
   "source": [
    "***Solution 1***: Go through each row in the ```world_banks``` dataframe and loop through each list of dictionaries in the ```'mjtheme_namecode'``` column. If the value of the ```name``` key is ```''```, then replace the string with ```'Not Specified'``` using the ```.replace()``` method. Assert an error if the ```name``` value is an empty string and print the first value of ```world_banks['mjtheme_namecode']``` to show proper string replacement."
   ]
  },
  {
   "cell_type": "code",
   "execution_count": 6,
   "metadata": {},
   "outputs": [
    {
     "data": {
      "text/plain": [
       "[{'code': '8', 'name': 'Human development'},\n",
       " {'code': '11', 'name': 'Not Specified'}]"
      ]
     },
     "execution_count": 6,
     "metadata": {},
     "output_type": "execute_result"
    }
   ],
   "source": [
    "world_banks = pd.read_json('data/world_bank_projects.json')\n",
    "\n",
    "for idx, row in world_banks.iterrows():\n",
    "    for item in row['mjtheme_namecode']:\n",
    "        if item['name'] == '':\n",
    "            item['name'] = item['name'].replace('', 'Not Specified')\n",
    "        assert item['name'] != '', 'Empty string still present'\n",
    "world_banks['mjtheme_namecode'][0]"
   ]
  },
  {
   "cell_type": "markdown",
   "metadata": {},
   "source": [
    "**Solution 2**: Loop through the ```mjtheme_namecode``` column of ```world_banks``` and replace all ```''``` values from the ```name``` key with ```'Not Specified'``` using an if-statement. Assert an error if the ```name``` value is an empty string and print out the first value of ```world_banks['mjtheme_namecode']``` to demonstrate proper missing name entry replacement."
   ]
  },
  {
   "cell_type": "code",
   "execution_count": 7,
   "metadata": {},
   "outputs": [
    {
     "data": {
      "text/plain": [
       "[{'code': '8', 'name': 'Human development'},\n",
       " {'code': '11', 'name': 'Not Specified'}]"
      ]
     },
     "execution_count": 7,
     "metadata": {},
     "output_type": "execute_result"
    }
   ],
   "source": [
    "world_banks = pd.read_json('data/world_bank_projects.json')\n",
    "\n",
    "for data in world_banks['mjtheme_namecode']:\n",
    "    for sub_data in data:\n",
    "        if sub_data['name'] == '':\n",
    "            sub_data['name'] = 'Not Specified'\n",
    "        assert sub_data['name'] != '', 'Empty string still present.'\n",
    "world_banks['mjtheme_namecode'][0]"
   ]
  }
 ],
 "metadata": {
  "kernelspec": {
   "display_name": "Python 3",
   "language": "python",
   "name": "python3"
  },
  "language_info": {
   "codemirror_mode": {
    "name": "ipython",
    "version": 3
   },
   "file_extension": ".py",
   "mimetype": "text/x-python",
   "name": "python",
   "nbconvert_exporter": "python",
   "pygments_lexer": "ipython3",
   "version": "3.7.3"
  }
 },
 "nbformat": 4,
 "nbformat_minor": 1
}
