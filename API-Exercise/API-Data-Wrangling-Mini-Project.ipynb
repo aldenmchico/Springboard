{
 "cells": [
  {
   "cell_type": "markdown",
   "metadata": {},
   "source": [
    "This exercise will require you to pull some data from the Qunadl API. Qaundl is currently the most widely used aggregator of financial market data."
   ]
  },
  {
   "cell_type": "markdown",
   "metadata": {},
   "source": [
    "As a first step, you will need to register a free account on the http://www.quandl.com website."
   ]
  },
  {
   "cell_type": "markdown",
   "metadata": {},
   "source": [
    "After you register, you will be provided with a unique API key, that you should store:"
   ]
  },
  {
   "cell_type": "code",
   "execution_count": 1,
   "metadata": {},
   "outputs": [],
   "source": [
    "# Store the API key as a string - according to PEP8, constants are always named in all upper case\n",
    "API_KEY = '???'"
   ]
  },
  {
   "cell_type": "markdown",
   "metadata": {},
   "source": [
    "Qaundl has a large number of data sources, but, unfortunately, most of them require a Premium subscription. Still, there are also a good number of free datasets."
   ]
  },
  {
   "cell_type": "markdown",
   "metadata": {},
   "source": [
    "For this mini project, we will focus on equities data from the Frankfurt Stock Exhange (FSE), which is available for free. We'll try and analyze the stock prices of a company called Carl Zeiss Meditec, which manufactures tools for eye examinations, as well as medical lasers for laser eye surgery: https://www.zeiss.com/meditec/int/home.html. The company is listed under the stock ticker AFX_X."
   ]
  },
  {
   "cell_type": "markdown",
   "metadata": {},
   "source": [
    "You can find the detailed Quandl API instructions here: https://docs.quandl.com/docs/time-series"
   ]
  },
  {
   "cell_type": "markdown",
   "metadata": {},
   "source": [
    "While there is a dedicated Python package for connecting to the Quandl API, we would prefer that you use the *requests* package, which can be easily downloaded using *pip* or *conda*. You can find the documentation for the package here: http://docs.python-requests.org/en/master/ "
   ]
  },
  {
   "cell_type": "markdown",
   "metadata": {},
   "source": [
    "Finally, apart from the *requests* package, you are encouraged to not use any third party Python packages, such as *pandas*, and instead focus on what's available in the Python Standard Library (the *collections* module might come in handy: https://pymotw.com/3/collections/ ).\n",
    "Also, since you won't have access to DataFrames, you are encouraged to us Python's native data structures - preferably dictionaries, though some questions can also be answered using lists.\n",
    "You can read more on these data structures here: https://docs.python.org/3/tutorial/datastructures.html"
   ]
  },
  {
   "cell_type": "markdown",
   "metadata": {},
   "source": [
    "Keep in mind that the JSON responses you will be getting from the API map almost one-to-one to Python's dictionaries. Unfortunately, they can be very nested, so make sure you read up on indexing dictionaries in the documentation provided above."
   ]
  },
  {
   "cell_type": "code",
   "execution_count": 2,
   "metadata": {},
   "outputs": [],
   "source": [
    "# First, import the relevant modules\n",
    "import requests\n",
    "import collections\n"
   ]
  },
  {
   "cell_type": "code",
   "execution_count": 3,
   "metadata": {},
   "outputs": [
    {
     "data": {
      "text/plain": [
       "{'dataset': {'id': 10095370,\n",
       "  'dataset_code': 'AFX_X',\n",
       "  'database_code': 'FSE',\n",
       "  'name': 'Carl Zeiss Meditec (AFX_X)',\n",
       "  'description': 'Stock Prices for Carl Zeiss Meditec (AFX) from the Frankfurt Stock Exchange.<br><br>Trading System: Xetra<br><br>ISIN: DE0005313704',\n",
       "  'refreshed_at': '2019-06-14T22:30:23.918Z',\n",
       "  'newest_available_date': '2019-06-14',\n",
       "  'oldest_available_date': '2000-06-07',\n",
       "  'column_names': ['Date',\n",
       "   'Open',\n",
       "   'High',\n",
       "   'Low',\n",
       "   'Close',\n",
       "   'Change',\n",
       "   'Traded Volume',\n",
       "   'Turnover',\n",
       "   'Last Price of the Day',\n",
       "   'Daily Traded Units',\n",
       "   'Daily Turnover'],\n",
       "  'frequency': 'daily',\n",
       "  'type': 'Time Series',\n",
       "  'premium': False,\n",
       "  'limit': None,\n",
       "  'transform': None,\n",
       "  'column_index': None,\n",
       "  'start_date': '2019-06-13',\n",
       "  'end_date': '2019-06-14',\n",
       "  'data': [['2019-06-14',\n",
       "    None,\n",
       "    89.55,\n",
       "    88.15,\n",
       "    89.55,\n",
       "    None,\n",
       "    96679.0,\n",
       "    8632357.0,\n",
       "    None,\n",
       "    None,\n",
       "    None],\n",
       "   ['2019-06-13',\n",
       "    None,\n",
       "    90.55,\n",
       "    88.95,\n",
       "    89.5,\n",
       "    None,\n",
       "    77479.0,\n",
       "    6936254.0,\n",
       "    None,\n",
       "    None,\n",
       "    None]],\n",
       "  'collapse': None,\n",
       "  'order': None,\n",
       "  'database_id': 6129}}"
      ]
     },
     "execution_count": 3,
     "metadata": {},
     "output_type": "execute_result"
    }
   ],
   "source": [
    "# Now, call the Quandl API and pull out a small sample of the data (only one day) to get a glimpse\n",
    "# into the JSON structure that will be returned\n",
    "database_code = 'FSE'\n",
    "dataset_code = 'AFX_X'\n",
    "return_format = 'json'\n",
    "start_date = '2019-06-13'\n",
    "end_date = '2019-06-15'\n",
    "collapse = 'annual'\n",
    "API_KEY = '???'\n",
    "#url = f'https://www.quandl.com/api/v3/datasets/WIKI/FB.json?api_key={API_KEY}'\n",
    "url = f'https://www.quandl.com/api/v3/datasets/{database_code}/{dataset_code}.{return_format}?&start_date={start_date}&api_key={API_KEY}'\n",
    "r = requests.get(url)\n",
    "r.json()"
   ]
  },
  {
   "cell_type": "code",
   "execution_count": 4,
   "metadata": {},
   "outputs": [],
   "source": [
    "# Inspect the JSON structure of the object you created, and take note of how nested it is,\n",
    "# as well as the overall structure\n"
   ]
  },
  {
   "cell_type": "markdown",
   "metadata": {},
   "source": [
    "These are your tasks for this mini project:\n",
    "\n",
    "1. Collect data from the Franfurt Stock Exchange, for the ticker AFX_X, for the whole year 2017 (keep in mind that the date format is YYYY-MM-DD).\n",
    "2. Convert the returned JSON object into a Python dictionary.\n",
    "3. Calculate what the highest and lowest opening prices were for the stock in this period.\n",
    "4. What was the largest change in any one day (based on High and Low price)?\n",
    "5. What was the largest change between any two days (based on Closing Price)?\n",
    "6. What was the average daily trading volume during this year?\n",
    "7. (Optional) What was the median trading volume during this year. (Note: you may need to implement your own function for calculating the median.)"
   ]
  },
  {
   "cell_type": "markdown",
   "metadata": {
    "collapsed": true
   },
   "source": [
    "**1. Collect data from the Franfurt Stock Exchange, for the ticker AFX_X, for the whole year 2017 (keep in mind that the date format is YYYY-MM-DD).**"
   ]
  },
  {
   "cell_type": "code",
   "execution_count": 5,
   "metadata": {},
   "outputs": [],
   "source": [
    "database_code = 'FSE'\n",
    "dataset_code = 'AFX_X'\n",
    "return_format = 'json'\n",
    "start_date = '2017-01-01'\n",
    "end_date = '2017-12-31'\n",
    "API_KEY = '???'\n",
    "#url = f'https://www.quandl.com/api/v3/datasets/WIKI/FB.json?api_key={API_KEY}'\n",
    "url = f'https://www.quandl.com/api/v3/datasets/{database_code}/{dataset_code}.{return_format}?&start_date={start_date}&end_date={end_date}&api_key={API_KEY}'\n",
    "r = requests.get(url)\n",
    "afx_json = r.json()"
   ]
  },
  {
   "cell_type": "markdown",
   "metadata": {},
   "source": [
    "**2. Convert the returned JSON object into a Python dictionary.**"
   ]
  },
  {
   "cell_type": "code",
   "execution_count": 6,
   "metadata": {},
   "outputs": [],
   "source": [
    "afx_dict = dict(afx_json)"
   ]
  },
  {
   "cell_type": "markdown",
   "metadata": {},
   "source": [
    "#### Preliminary Data Setup"
   ]
  },
  {
   "cell_type": "code",
   "execution_count": 7,
   "metadata": {
    "scrolled": true
   },
   "outputs": [
    {
     "data": {
      "text/plain": [
       "['Date',\n",
       " 'Open',\n",
       " 'High',\n",
       " 'Low',\n",
       " 'Close',\n",
       " 'Change',\n",
       " 'Traded Volume',\n",
       " 'Turnover',\n",
       " 'Last Price of the Day',\n",
       " 'Daily Traded Units',\n",
       " 'Daily Turnover']"
      ]
     },
     "execution_count": 7,
     "metadata": {},
     "output_type": "execute_result"
    }
   ],
   "source": [
    "afx_col_names = afx_dict['dataset']['column_names']\n",
    "afx_col_names"
   ]
  },
  {
   "cell_type": "markdown",
   "metadata": {},
   "source": [
    "Printing out the column names lets me know what the relevant indices for each problem."
   ]
  },
  {
   "cell_type": "code",
   "execution_count": 8,
   "metadata": {},
   "outputs": [
    {
     "data": {
      "text/plain": [
       "255"
      ]
     },
     "execution_count": 8,
     "metadata": {},
     "output_type": "execute_result"
    }
   ],
   "source": [
    "afx_data = afx_dict['dataset']['data']\n",
    "len(afx_data)"
   ]
  },
  {
   "cell_type": "markdown",
   "metadata": {},
   "source": [
    "This dataset only has 255 items. Since the dataset is small, using for loops to answer the questions will do the trick."
   ]
  },
  {
   "cell_type": "markdown",
   "metadata": {},
   "source": [
    "**3. Calculate what the highest and lowest opening prices were for the stock in this period.**\n",
    "\n",
    "Opening trading price found in ```afx_data[1]```"
   ]
  },
  {
   "cell_type": "code",
   "execution_count": 9,
   "metadata": {},
   "outputs": [
    {
     "name": "stdout",
     "output_type": "stream",
     "text": [
      "Highest open for 2017: $53.11\n",
      "Lowest open for 2017: $34.00\n"
     ]
    }
   ],
   "source": [
    "open_max = 0\n",
    "open_min = 100000\n",
    "for val in afx_data:\n",
    "    \n",
    "    # Some members didn't have an opening price. Try-Except skips over these anomalies\n",
    "    # Keep track of high/low opening prices using if statements\n",
    "    try:\n",
    "        temp = val[1]\n",
    "        if val[1] > open_max:\n",
    "            open_max = val[1]\n",
    "        if val[1] < open_min:\n",
    "            open_min = val[1]\n",
    "    except TypeError:\n",
    "        continue\n",
    "print(f'Highest open for 2017: ${open_max:.2f}\\nLowest open for 2017: ${open_min:.2f}')"
   ]
  },
  {
   "cell_type": "markdown",
   "metadata": {},
   "source": [
    "**4. What was the largest change in any one day (based on High and Low price)?**\n",
    "\n",
    "Trading high price found in ```afx_data[2]```\n",
    "\n",
    "Trading low price found in ```afx_data[3]```"
   ]
  },
  {
   "cell_type": "code",
   "execution_count": 10,
   "metadata": {},
   "outputs": [
    {
     "name": "stdout",
     "output_type": "stream",
     "text": [
      "Greatest change in one day: $2.81\n"
     ]
    }
   ],
   "source": [
    "max_change = 0\n",
    "\n",
    "# Calculates the difference between high/low price and stores it as max_change\n",
    "for val in afx_data:\n",
    "    try:\n",
    "        day_change = val[2]-val[3]\n",
    "        if abs(day_change) > abs(max_change):\n",
    "            max_change = day_change\n",
    "    except TypeError:\n",
    "        continue\n",
    "print(f'Greatest change in one day: ${max_change:.2f}')"
   ]
  },
  {
   "cell_type": "markdown",
   "metadata": {},
   "source": [
    "**5. What was the largest change between any two days (based on Closing Price)?**\n",
    "\n",
    "Closing price found in ```afx_data[4]```"
   ]
  },
  {
   "cell_type": "code",
   "execution_count": 11,
   "metadata": {},
   "outputs": [
    {
     "name": "stdout",
     "output_type": "stream",
     "text": [
      "Greatest closing change between two days: $17.29\n"
     ]
    }
   ],
   "source": [
    "max_close_change = 0\n",
    "\n",
    "# afx_data list starts at the end of the year, so need to reverse the list to get it in chronological order\n",
    "afx_data.reverse()\n",
    "temp = afx_data[0][4]\n",
    "\n",
    "# Calculate differences between closing values in afx_data\n",
    "for val in afx_data:\n",
    "    try:\n",
    "        close_change = val[4]-temp\n",
    "        if abs(close_change) > abs(max_close_change):\n",
    "            max_close_change = close_change\n",
    "    except TypeError:\n",
    "        continue\n",
    "print(f'Greatest closing change between two days: ${max_close_change:.2f}'.replace('$-','-$'))"
   ]
  },
  {
   "cell_type": "markdown",
   "metadata": {},
   "source": [
    "**6. What was the average daily trading volume during this year?**\n",
    "\n",
    "Trading volume found in ```afx_data[6]```"
   ]
  },
  {
   "cell_type": "code",
   "execution_count": 12,
   "metadata": {},
   "outputs": [
    {
     "name": "stdout",
     "output_type": "stream",
     "text": [
      "Average trading volume per day in 2017: 89124\n"
     ]
    }
   ],
   "source": [
    "vol_sum = 0\n",
    "count = 0\n",
    "\n",
    "# Get sum of volume data and count of how many volumes contributed to the sum\n",
    "for val in afx_data:\n",
    "    try:\n",
    "        vol_sum += val[6]\n",
    "        count += 1\n",
    "    except TypeError:\n",
    "        continue\n",
    "        \n",
    "# Find the average trading volume for the year\n",
    "average_vol = vol_sum/count\n",
    "print(f'Average trading volume per day in 2017: {average_vol:.0f}')"
   ]
  },
  {
   "cell_type": "markdown",
   "metadata": {},
   "source": [
    "**7. (Optional) What was the median trading volume during this year. (Note: you may need to implement your own function for calculating the median.)**\n",
    "\n",
    "Trading volume found in ```afx_data[6]```"
   ]
  },
  {
   "cell_type": "code",
   "execution_count": 13,
   "metadata": {},
   "outputs": [
    {
     "name": "stdout",
     "output_type": "stream",
     "text": [
      "Median trading volume for 2017: 76286\n"
     ]
    }
   ],
   "source": [
    "vol_list = []\n",
    "\n",
    "# Create a list of volume data from the afx_data list and sort it\n",
    "for val in afx_data:\n",
    "    try:\n",
    "        vol_list.append(val[6])\n",
    "    except TypeError:\n",
    "        continue\n",
    "vol_list = sorted(vol_list)\n",
    "vol_list_len = len(vol_list)\n",
    "\n",
    "# If-Else statement to adjust median return for even/odd length volume lists\n",
    "if vol_list_len % 2 == 0:\n",
    "    median = (vol_list[vol_list_len-1]+vol_list[vol_list_len])/2\n",
    "else:\n",
    "    vol_list_med = int(vol_list_len/2)\n",
    "    median = vol_list[vol_list_med]\n",
    "print(f'Median trading volume for 2017: {median:.0f}')"
   ]
  }
 ],
 "metadata": {
  "kernelspec": {
   "display_name": "Python 3",
   "language": "python",
   "name": "python3"
  },
  "language_info": {
   "codemirror_mode": {
    "name": "ipython",
    "version": 3
   },
   "file_extension": ".py",
   "mimetype": "text/x-python",
   "name": "python",
   "nbconvert_exporter": "python",
   "pygments_lexer": "ipython3",
   "version": "3.7.3"
  }
 },
 "nbformat": 4,
 "nbformat_minor": 2
}
