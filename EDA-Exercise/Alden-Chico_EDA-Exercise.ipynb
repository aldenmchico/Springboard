{
 "cells": [
  {
   "cell_type": "markdown",
   "metadata": {},
   "source": [
    "# What is the True Normal Human Body Temperature? \n",
    "\n",
    "#### Background\n",
    "\n",
    "The mean normal body temperature was held to be 37$^{\\circ}$C or 98.6$^{\\circ}$F for more than 120 years since it was first conceptualized and reported by Carl Wunderlich in a famous 1868 book. But, is this value statistically correct?"
   ]
  },
  {
   "cell_type": "markdown",
   "metadata": {},
   "source": [
    "<h3>Exercises</h3>\n",
    "\n",
    "<p>In this exercise, you will analyze a dataset of human body temperatures and employ the concepts of hypothesis testing, confidence intervals, and statistical significance.</p>\n",
    "\n",
    "<p>Answer the following questions <b>in this notebook below and submit to your Github account</b>.</p> \n",
    "\n",
    "<ol>\n",
    "<li>  Is the distribution of body temperatures normal? \n",
    "    <ul>\n",
    "    <li> Although this is not a requirement for the Central Limit Theorem to hold (read the introduction on Wikipedia's page about the CLT carefully: https://en.wikipedia.org/wiki/Central_limit_theorem), it gives us some peace of mind that the population may also be normally distributed if we assume that this sample is representative of the population.\n",
    "    <li> Think about the way you're going to check for the normality of the distribution. Graphical methods are usually used first, but there are also other ways: https://en.wikipedia.org/wiki/Normality_test\n",
    "    </ul>\n",
    "<li>  Is the sample size large? Are the observations independent?\n",
    "    <ul>\n",
    "    <li> Remember that this is a condition for the Central Limit Theorem, and hence the statistical tests we are using, to apply.\n",
    "    </ul>\n",
    "<li>  Is the true population mean really 98.6 degrees F?\n",
    "    <ul>\n",
    "    <li> First, try a bootstrap hypothesis test.\n",
    "    <li> Now, let's try frequentist statistical testing. Would you use a one-sample or two-sample test? Why?\n",
    "    <li> In this situation, is it appropriate to use the $t$ or $z$ statistic? \n",
    "    <li> Now try using the other test. How is the result be different? Why?\n",
    "    </ul>\n",
    "<li>  Draw a small sample of size 10 from the data and repeat both frequentist tests. \n",
    "    <ul>\n",
    "    <li> Which one is the correct one to use? \n",
    "    <li> What do you notice? What does this tell you about the difference in application of the $t$ and $z$ statistic?\n",
    "    </ul>\n",
    "<li>  At what temperature should we consider someone's temperature to be \"abnormal\"?\n",
    "    <ul>\n",
    "    <li> As in the previous example, try calculating everything using the boostrap approach, as well as the frequentist approach.\n",
    "    <li> Start by computing the margin of error and confidence interval. When calculating the confidence interval, keep in mind that you should use the appropriate formula for one draw, and not N draws.\n",
    "    </ul>\n",
    "<li>  Is there a significant difference between males and females in normal temperature?\n",
    "    <ul>\n",
    "    <li> What testing approach did you use and why?\n",
    "    <li> Write a story with your conclusion in the context of the original problem.\n",
    "    </ul>\n",
    "</ol>\n",
    "\n",
    "You can include written notes in notebook cells using Markdown: \n",
    "   - In the control panel at the top, choose Cell > Cell Type > Markdown\n",
    "   - Markdown syntax: http://nestacms.com/docs/creating-content/markdown-cheat-sheet\n",
    "\n",
    "#### Resources\n",
    "\n",
    "+ Information and data sources: http://www.amstat.org/publications/jse/datasets/normtemp.txt, http://www.amstat.org/publications/jse/jse_data_archive.htm\n",
    "+ Markdown syntax: http://nestacms.com/docs/creating-content/markdown-cheat-sheet\n",
    "\n",
    "****"
   ]
  },
  {
   "cell_type": "code",
   "execution_count": 1,
   "metadata": {},
   "outputs": [],
   "source": [
    "import pandas as pd\n",
    "import numpy as np\n",
    "import matplotlib.pyplot as plt\n",
    "import seaborn as sns\n",
    "\n",
    "df = pd.read_csv('data/human_body_temperature.csv')\n",
    "sns.set()"
   ]
  },
  {
   "cell_type": "markdown",
   "metadata": {
    "collapsed": true
   },
   "source": [
    "#### 1. Is the distribution of body temperatures normal?"
   ]
  },
  {
   "cell_type": "markdown",
   "metadata": {},
   "source": [
    "##### a. Checking for Normality Using a Probability Mass Function (PMF)"
   ]
  },
  {
   "cell_type": "markdown",
   "metadata": {},
   "source": [
    "A PMF is a histogram that shows the probability of an event happening within intervals defined by histogram bins. To find if the body temperature with the given sample is normal, a good first step would be to plot the body temperature as a PMF and compare it to a theoretical PMF where the samples are centered around the mean and normally randomly distributed with the data set's standard deviation. Using ```matplotlib.pyplot```, we graph the observed body temperature data in blue against the normally distributed body temperature data in red."
   ]
  },
  {
   "cell_type": "code",
   "execution_count": 2,
   "metadata": {},
   "outputs": [
    {
     "data": {
      "image/png": "[encoded data removed]",
      "text/plain": [
       "<Figure size 432x288 with 1 Axes>"
      ]
     },
     "metadata": {
      "needs_background": "light"
     },
     "output_type": "display_data"
    }
   ],
   "source": [
    "np.random.seed(42)\n",
    "\n",
    "# Generate normally distributed average body temperatures from the collected data\n",
    "samples = np.random.normal(np.mean(df['temperature']), np.std(df['temperature']), len(df['temperature']))\n",
    "\n",
    "# Use the commonly accepted guideline of sqrt(n) number of bins for the PMF\n",
    "bins = int(np.sqrt(len(df['temperature'])))\n",
    "\n",
    "# Plot the observed PMF and normally distributed PMF\n",
    "_ = plt.hist(df['temperature'], bins=bins, color='blue', density=True)\n",
    "_ = plt.hist(samples, bins=bins, color='red', alpha=0.4, density=True)\n",
    "_ = plt.xlabel('Body Temperature')\n",
    "_ = plt.ylabel('Number of People')\n",
    "_ = plt.legend(('Actual', 'Theoretical'), loc='upper right')\n",
    "plt.show()"
   ]
  },
  {
   "cell_type": "markdown",
   "metadata": {},
   "source": [
    "We can see from this plot that the distribution of the actual data is around the same as the distribution from the generated normal data. You can argue that the actual data is slightly skewed right from the PMF, so to double check for normality, we will also use an Empirical Cumulative Distribution Function (ECDF)."
   ]
  },
  {
   "cell_type": "markdown",
   "metadata": {},
   "source": [
    "##### b. Checking for Normality Using an Empirical Cumulative Distribution Function (ECDF)"
   ]
  },
  {
   "cell_type": "markdown",
   "metadata": {},
   "source": [
    "An ECDF is a graph that shows the proportion of events equal to or less than the provided value along the x-axis. For this example, the plotted points are for body temperature. The points in blue correspond to the observed body temperature values and the points in red correspond to the same normally distributed body temperature data we made from the last step."
   ]
  },
  {
   "cell_type": "code",
   "execution_count": 3,
   "metadata": {},
   "outputs": [
    {
     "data": {
      "image/png": "[encoded data removed]",
      "text/plain": [
       "<Figure size 432x288 with 1 Axes>"
      ]
     },
     "metadata": {
      "needs_background": "light"
     },
     "output_type": "display_data"
    }
   ],
   "source": [
    "np.random.seed(42)\n",
    "\n",
    "# Prepare the body temperature data from the DataFrame as an Empirical Cumulative Distribution Function (ECDF)\n",
    "temp_sort = np.sort(df['temperature'])\n",
    "p_norm = np.arange(1, len(temp_sort) + 1) / len(temp_sort)\n",
    "\n",
    "# Prepare normally distributed body temperature data from the DataFrame as an ECDF\n",
    "samples_sort = np.sort(samples)\n",
    "\n",
    "# Plot the actual body temperature data ECDF and the normally distributed body temperature data ECDF\n",
    "_ = plt.plot(temp_sort, p_norm, marker='.', linestyle='none', color = 'blue')\n",
    "_ = plt.plot(samples_sort, p_norm, marker='.', linestyle='none', color='red', alpha=0.2)\n",
    "_ = plt.xlabel('Body Temperature')\n",
    "_ = plt.ylabel('CDF')\n",
    "_ = plt.legend(('Actual', 'Theoretical'))\n",
    "plt.show()"
   ]
  },
  {
   "cell_type": "markdown",
   "metadata": {},
   "source": [
    "From the ECDF, we can see that the actual values roughly follow the normal generated values. We are going to assume that the data from the observations are normally distributed for the rest of the exercises."
   ]
  },
  {
   "cell_type": "markdown",
   "metadata": {},
   "source": [
    "#### 2. Is the sample size large? Are the observations independent?"
   ]
  },
  {
   "cell_type": "markdown",
   "metadata": {},
   "source": [
    "To make statistical inferences about the data, we first have to check if we have enough sampled data. Since we are trying to infer true population mean from a sample, a commonly accepted baseline sample size for this metric is 30."
   ]
  },
  {
   "cell_type": "code",
   "execution_count": 4,
   "metadata": {
    "scrolled": false
   },
   "outputs": [
    {
     "data": {
      "text/plain": [
       "130"
      ]
     },
     "execution_count": 4,
     "metadata": {},
     "output_type": "execute_result"
    }
   ],
   "source": [
    "# Find how many human body temperature observations we have in the DataFrame\n",
    "n = len(df['temperature'])\n",
    "n"
   ]
  },
  {
   "cell_type": "markdown",
   "metadata": {},
   "source": [
    "From this experiment, we measured the body temperature of 130 individuals which is large enough to make inferences about sample mean.\n",
    "\n",
    "To claim that these observations are independent, it's accepted practice that the samples are independent if the sample size is less than or equal to 10% of the population. Since more that 1300 people exist on planet Earth at any point in time, it is safe to say that these observations are independent.\n",
    "\n",
    "Also, we are going to assume that the sample of people was randomly selected and representative of the population on Earth."
   ]
  },
  {
   "cell_type": "markdown",
   "metadata": {},
   "source": [
    "#### 3. Is the true population mean really 98.6 degrees F?"
   ]
  },
  {
   "cell_type": "markdown",
   "metadata": {},
   "source": [
    "##### a. Stating our Null Hypothesis"
   ]
  },
  {
   "cell_type": "markdown",
   "metadata": {},
   "source": [
    "In order to find if Carl Wunderlich's assertion that the average human body temperature is 98.6&deg;F is true, we are going to set up a Null Hypothesis Test. The Null Hypothesis is that the true population mean is equal to 98.6&deg;F and the Alternative Hypothesis is that the true population mean is not equal to 98.6&deg;F. \n",
    "\n",
    "H<sub>0</sub>: $\\mu$ = 98.6&deg;F\n",
    "\n",
    "H<sub>a</sub>: $\\mu \\neq$ 98.6&deg;F\n",
    "\n",
    "For this Null Hypothesis Test, we will set the $\\alpha$ = 0.05 for a 95% confidence interval. If our observed mean value is within the 95% confidence interval, we will fail to reject the Null Hypothesis in favor of Wunderlich's statement that the mean human body temperature is equal to 98.6&deg;F. If our observed mean is outside the confidence interval, then we will reject the Null Hypothesis in favor for our Alternative Hypothesis that the average human body temperature is not 98.6&deg;F."
   ]
  },
  {
   "cell_type": "markdown",
   "metadata": {},
   "source": [
    "##### b. The Bayesian Approach to the Null Hypothesis Test"
   ]
  },
  {
   "cell_type": "markdown",
   "metadata": {},
   "source": [
    "To perform the Null Hypothesis Test using the Bayesian approach, we must first find the mean and standard deviation of the sample."
   ]
  },
  {
   "cell_type": "code",
   "execution_count": 5,
   "metadata": {},
   "outputs": [
    {
     "name": "stdout",
     "output_type": "stream",
     "text": [
      "The Observed Average Body Temperature: 98.25 Degrees F\n",
      "The Observed Standard Deviation: 0.73 Degrees F\n"
     ]
    }
   ],
   "source": [
    "obs_mu = np.mean(df['temperature'])\n",
    "obs_std = np.std(df['temperature'])\n",
    "print(f'The Observed Average Body Temperature: {obs_mu:.2f} Degrees F')\n",
    "print(f'The Observed Standard Deviation: {obs_std:.2f} Degrees F')"
   ]
  },
  {
   "cell_type": "markdown",
   "metadata": {},
   "source": [
    "From the observed data, we find that the average body temperature is 98.25&deg;F with a standard deviation of 0.73&deg;F. To find the upper and lower boundaries for our confidence interval, we would normally use a t-table that provides the area under the normal curve given the standard deviation of the sample and its sample size. But since we have 130 samples, the sample size is sufficiently large to assume that the critical t-value $t*$ would be approximately equal to the critical z-value $z*$ from a z-table which provides values of probability under a perfect normal curve. So with 5% of area under the curve for a 95% confidence interval, the critical z-value $z*$ for this test is 1.96. Since the sample spread from the mean is heavily dependent on the sample size, we find the standard error by dividing the standard deviation by $\\sqrt{n}$. Multiplying $z*$ by the standard error provides the acceptable margin of error. The confidence interval is the hypothesized population mean of 98.6&deg;F $\\pm$ the acceptable margin of error. "
   ]
  },
  {
   "cell_type": "code",
   "execution_count": 6,
   "metadata": {},
   "outputs": [
    {
     "name": "stdout",
     "output_type": "stream",
     "text": [
      "95% Confidence Interval: 98.47 to 98.73 Degrees F\n"
     ]
    }
   ],
   "source": [
    "# Center the test around the hypothesized mean\n",
    "mu_not = 98.6\n",
    "\n",
    "# Calculate standard and margins of error\n",
    "std_err = obs_std / np.sqrt(n)\n",
    "margin_error = 1.96 * std_err\n",
    "\n",
    "# Calculate boundaries for the interval test\n",
    "low_interval = mu_not - margin_error\n",
    "high_interval = mu_not + margin_error\n",
    "\n",
    "# Display the boundaries for the interval test\n",
    "print(f'95% Confidence Interval: {low_interval:.2f} to {high_interval:.2f} Degrees F')"
   ]
  },
  {
   "cell_type": "markdown",
   "metadata": {},
   "source": [
    "From our sample, we establish that our confidence interval is between 98.47&deg;F and 98.73&deg;F. We can see that our observed sample mean of 98.25&deg;F is outside this interval. To find how far away the observed average body temperature is away from Wunderlich's value, we need to find the z-score for our sample mean. The z-score will provide us with how many standard errors our observed 98.25&deg;F average is from the hypothesis average human body temperature given that our Null Hypothesis was true."
   ]
  },
  {
   "cell_type": "code",
   "execution_count": 7,
   "metadata": {},
   "outputs": [
    {
     "name": "stdout",
     "output_type": "stream",
     "text": [
      "Observed Z-Score is -5.48\n"
     ]
    }
   ],
   "source": [
    "# Calculate the z-value for our observed mean given Wunderlich's proposal was true\n",
    "z_value = (obs_mu - mu_not) / std_err\n",
    "print(f'Observed Z-Score is {z_value:.2f}')"
   ]
  },
  {
   "cell_type": "markdown",
   "metadata": {},
   "source": [
    "The z-score for our observed mean is -5.48. This means that our observed mean is 5.48 standard deviations to the left of the assumed  average human body temperature of 98.6&deg;F. Since we started this hypothesis test with an $\\alpha$ = 0.05 assumption whose critical z-score $z* = \\pm1.96$ standard errors away from the mean and our observed z-score is further away than that, we will reject Wunderlich's original observation in favor for the Alternative Hypothesis that the true human body temperature average does not equal 98.6&deg;F. "
   ]
  },
  {
   "cell_type": "code",
   "execution_count": 8,
   "metadata": {},
   "outputs": [
    {
     "data": {
      "image/png": "[encoded data removed]",
      "text/plain": [
       "<Figure size 432x288 with 1 Axes>"
      ]
     },
     "metadata": {
      "needs_background": "light"
     },
     "output_type": "display_data"
    }
   ],
   "source": [
    "np.random.seed(42)\n",
    "\n",
    "# Create 10,000 normally distributed  samples centered around the proposed mean and spread given our standard error\n",
    "bins = 100\n",
    "samples = np.random.normal(mu_not, std_err, 10000)\n",
    "\n",
    "# Plot the generated points as a histogram with markers indicating confidence interval, mean, and observation\n",
    "_ = plt.hist(samples, bins=bins, density=True, color='blue')\n",
    "_ = plt.axvline(mu_not, color='black', linestyle='dashed', linewidth=3)\n",
    "_ = plt.axvline(low_interval, color='red', linestyle='dashed', linewidth=1)\n",
    "_ = plt.axvline(high_interval, color='red', linestyle='dashed', linewidth=1)\n",
    "_ = plt.axvline(obs_mu, color='green', linestyle='dashed', linewidth=2)\n",
    "_ = plt.xlabel('Human Body Temperature')\n",
    "_ = plt.ylabel('PMF')\n",
    "_ = plt.legend(('Hypothesis Mean', 'Interval', 'Interval', 'Observed Mean'), loc='upper right')\n",
    "plt.show()"
   ]
  },
  {
   "cell_type": "markdown",
   "metadata": {},
   "source": [
    "To illustrate this point, I constructed a PMF from ten thousand normally distributed random points centered around Wunderlich's average human body temperature with our calculated standard error. The mean is marked by the black dotted line and the confidence interval is marked between the two red dotted lines. The green dotted line shows that our observed average body temperature is far outside the confidence interval."
   ]
  },
  {
   "cell_type": "markdown",
   "metadata": {},
   "source": [
    "##### c. The Frequentist Approach to Hypothesis Testing - Bootstrapping"
   ]
  },
  {
   "cell_type": "markdown",
   "metadata": {},
   "source": [
    "Another way we can perform this hypothesis test is through a process known as bootstrapping. Bootstrapping for this example involves randomly sampling with replacement the same amount of observations from the body temperature data that we collected. This provides us with a bootstrap sample that we can use to find a new average body temperature value which is known as a bootstrap replicate. We then gather thousands of bootstrap replicates to generate a distribution of sample means over thousands of trials. The probability of getting a bootstrap replicate equal to or more extreme than the observed body temperature mean will give us a p-value for our observation that, if greater than 0.025 or less than 0.975, will lead us to a failure to reject Wunderlich's proposed human body temperature.\n",
    "\n",
    "In addition, since we only know Wunderlich's proposed human body temperature but don't have his data available to compare to our data, we will be using what is known as a single sample bootstrap. To perform a single sample bootstrap, we have to shift our data so that it's mean body temperature is equal to 98.6&deg;F as per Wunderlich's proposal. We will then proceed to taking boostrap replicates as stated above."
   ]
  },
  {
   "cell_type": "code",
   "execution_count": 9,
   "metadata": {},
   "outputs": [
    {
     "name": "stdout",
     "output_type": "stream",
     "text": [
      "95% Confidence Interval: 98.48 to 98.72 Degrees F\n",
      "Observed P-Value is 0.00\n"
     ]
    }
   ],
   "source": [
    "np.random.seed(42)\n",
    "\n",
    "# Transform our data so that it's mean is 98.6F\n",
    "obs_mu = np.mean(df['temperature'])\n",
    "translated_temp = df['temperature'] - obs_mu + 98.6\n",
    "\n",
    "# Prepare a bootstrap replicate array that will accept 10000 bootstrap replicates\n",
    "size = 10000\n",
    "bs_replicates = np.empty(size)\n",
    "\n",
    "# Generate bootstrap samples with bootstrap replicate means that are all stored in the bootstrap replicates array\n",
    "for i in range(size):\n",
    "    bs_sample = np.random.choice(translated_temp, len(translated_temp))\n",
    "    bs_replicate = np.mean(bs_sample)\n",
    "    bs_replicates[i] = bs_replicate\n",
    "\n",
    "# Generate a confidence interval and p-value using the bootstrap replicates we generated\n",
    "confidence_interval = np.percentile(bs_replicates, [2.5, 97.5])\n",
    "p_value = np.sum(bs_replicates < obs_mu) / size\n",
    "\n",
    "# Print the results\n",
    "print(f'95% Confidence Interval: {confidence_interval[0]:.2f} to {confidence_interval[1]:.2f} Degrees F')\n",
    "print(f'Observed P-Value is {p_value:.2f}')"
   ]
  },
  {
   "cell_type": "markdown",
   "metadata": {},
   "source": [
    "After taking 10,000 bootstrap replicates, our confidence interval of 98.48&deg;F to 98.72&deg;F is around equal to our Bayesian confidence interval of 98.47&deg;F to 98.73&deg;F from the previous step. In addition, not a single bootstrap replicate registered at 98.25&deg;F or less. This suggests what we proved from the Bayesian approach that the probability of finding an average body temperature less than or equal to our observed body temperature is really low. From our bootstrap confidence interval test, we are going to reject Wunderlich's assertion that the average human body temperature is equal to 98.6&deg;F in favor for the alternative."
   ]
  },
  {
   "cell_type": "code",
   "execution_count": 10,
   "metadata": {},
   "outputs": [
    {
     "data": {
      "image/png": "[encoded data removed]",
      "text/plain": [
       "<Figure size 432x288 with 1 Axes>"
      ]
     },
     "metadata": {
      "needs_background": "light"
     },
     "output_type": "display_data"
    }
   ],
   "source": [
    "# Create a line for the center of the distribution around the average of the bootstrap replicates\n",
    "rep_mean = np.mean(bs_replicates)\n",
    "\n",
    "# Plot the bootstrap replicates as a PMF histogram\n",
    "_ = plt.hist(bs_replicates, bins=bins, density=True, color='blue')\n",
    "\n",
    "# Create vertical lines for all the generated data that we collected\n",
    "obs_mu_line = plt.axvline(obs_mu, color='green', linestyle='dashed', linewidth=2, label='Observed Mean')\n",
    "rep_mean_line = plt.axvline(rep_mean, color='black', linestyle='dashed', linewidth=3, label='Hypothesis Mean')\n",
    "interval_low = plt.axvline(confidence_interval[0], color='red', linestyle='dashed', linewidth=1, label='Interval')\n",
    "interval_high = plt.axvline(confidence_interval[1], color='red', linestyle='dashed', linewidth=1, label='Interval')\n",
    "_ = plt.xlabel('Human Body Temperature')\n",
    "_ = plt.ylabel('PMF')\n",
    "_ = plt.legend(handles=[obs_mu_line, rep_mean_line, interval_low, interval_high], loc='upper right')\n",
    "plt.show()"
   ]
  },
  {
   "cell_type": "markdown",
   "metadata": {},
   "source": [
    "Creating a PMF for our bootstrap hypothesis test shows a similar distribution to our Bayesian hypothesis test. With the data centered around Wunderlich's claimed body temperature, our observed average body temperature is far away from his original statement."
   ]
  },
  {
   "cell_type": "markdown",
   "metadata": {},
   "source": [
    "#### 4. Draw a small sample of size 10 from the data and repeat both frequentist tests."
   ]
  },
  {
   "cell_type": "markdown",
   "metadata": {},
   "source": [
    "##### a. Bayesian Approach to the Null Hypothesis Test with Sample Size n = 10"
   ]
  },
  {
   "cell_type": "markdown",
   "metadata": {},
   "source": [
    "For the next exercise, we will reduce the sample size from human body temperature measurements from the entire data set to 10 random points from the data set and observe the differences. For the Bayesian approach to this Null Hypothesis test, we have to use the t-score as opposed to the z-score to measure our observation's distance from the 98.6&deg;F hypothesized mean. This is because with a sample size of 10 versus 130, the number of observations for the mean affects the normal distribution of the curve. Using a t-table, we can find thatour critical t-score $t*$ for a 95% confidence interval with 9 degrees of freedom $$df = n - 1$$ is 2.262 standard errors away from our mean."
   ]
  },
  {
   "cell_type": "code",
   "execution_count": 11,
   "metadata": {},
   "outputs": [
    {
     "name": "stdout",
     "output_type": "stream",
     "text": [
      "95% Confidence Interval: 98.22 to 98.98 Degrees F\n",
      "Observed Average Body Temperature from Sample: 98.05 Degrees F\n",
      "Observed T-Score is -3.26\n"
     ]
    }
   ],
   "source": [
    "np.random.seed(42)\n",
    "\n",
    "# Center the distribution around Wunderlich's proposed average body temperature\n",
    "mu_not = 98.6\n",
    "\n",
    "# Generate a random sample from a sample size of 10\n",
    "n = 10\n",
    "sample = np.random.choice(df['temperature'], n)\n",
    "\n",
    "# Find the observed average and standard deviation from the sample\n",
    "obs_mu = np.mean(sample)\n",
    "obs_std = np.std(sample)\n",
    "\n",
    "# Calculate standard error and margins of error\n",
    "std_err = obs_std / np.sqrt(n)\n",
    "margin_error = 2.262 * std_err\n",
    "\n",
    "# Calculate boundaries for the interval test\n",
    "low_interval = mu_not - margin_error\n",
    "high_interval = mu_not + margin_error\n",
    "\n",
    "# Calculate the t-value for our observed mean given Wunderlich's proposal was true\n",
    "t_value = (obs_mu - mu_not) / std_err\n",
    "\n",
    "# Print Results\n",
    "print(f'95% Confidence Interval: {low_interval:.2f} to {high_interval:.2f} Degrees F')\n",
    "print(f'Observed Average Body Temperature from Sample: {obs_mu:.2f} Degrees F')\n",
    "print(f'Observed T-Score is {t_value:.2f}')"
   ]
  },
  {
   "cell_type": "markdown",
   "metadata": {},
   "source": [
    "With the above stated $t* = 2.262$ value, our confidence interval centered around Wunderlich's 98.6&deg;F extends from 98.22&deg;F to 98.98&deg;F. This new confidence interval does not include our sampled mean body temperature of 98.05&deg;F. The t-score for 98.05&deg;F is -3.26 standard errors away from the mean which is outside the 2.262 standard error limits. From this test, we are 95% confident that the true average human body temperature lies between 98.22&deg;F and 98.98&deg;F which does not include our 98.05&deg;F observed average body temperature. We will reject the null hypothesis in favor of the alternative that the average human body temperature is not 98.6&deg;F."
   ]
  },
  {
   "cell_type": "code",
   "execution_count": 12,
   "metadata": {},
   "outputs": [
    {
     "data": {
      "image/png": "[encoded data removed]",
      "text/plain": [
       "<Figure size 432x288 with 1 Axes>"
      ]
     },
     "metadata": {
      "needs_background": "light"
     },
     "output_type": "display_data"
    }
   ],
   "source": [
    "np.random.seed(42)\n",
    "\n",
    "# Create 10,000 normally distributed  samples centered around the proposed mean and spread given our standard error\n",
    "bins = 100\n",
    "samples = np.random.normal(mu_not, std_err, 10000)\n",
    "\n",
    "# Plot the generated points as a histogram with markers indicating confidence interval, mean, and observation\n",
    "_ = plt.hist(samples, bins=bins, density=True, color='blue')\n",
    "_ = plt.axvline(mu_not, color='black', linestyle='dashed', linewidth=3)\n",
    "_ = plt.axvline(low_interval, color='red', linestyle='dashed', linewidth=1)\n",
    "_ = plt.axvline(high_interval, color='red', linestyle='dashed', linewidth=1)\n",
    "_ = plt.axvline(obs_mu, color='green', linestyle='dashed', linewidth=2)\n",
    "_ = plt.xlabel('Human Body Temperature')\n",
    "_ = plt.ylabel('PMF')\n",
    "_ = plt.legend(('Hypothesis Mean', 'Interval', 'Interval', 'Observed Mean'), loc='upper right')\n",
    "plt.show()\n"
   ]
  },
  {
   "cell_type": "markdown",
   "metadata": {},
   "source": [
    "Again, from this small sampling of our original data, we reject Wunderlich's claim that the average human body temperature is 98.6&deg;F"
   ]
  },
  {
   "cell_type": "markdown",
   "metadata": {},
   "source": [
    "##### b. The Frequentist Approach to Sampling from a Sample Size of n=10"
   ]
  },
  {
   "cell_type": "markdown",
   "metadata": {},
   "source": [
    "The bootstrapping method for our test starts with generating a random sample of 10 data points from our original observations. Like the bootstrapping method from the previous example, we have to translate all the data points so that the sample mean is centered around 98.6&deg;F. After that, we generate 10,000 bootstrap replicates by sampling our 10 data points with replacement 10,000 times. We then find the percentiles where 2.5% and 97.5% of the generated bootstrap replicates lie which will tell us the boundaries for our confidence interval."
   ]
  },
  {
   "cell_type": "code",
   "execution_count": 13,
   "metadata": {},
   "outputs": [
    {
     "name": "stdout",
     "output_type": "stream",
     "text": [
      "95% Confidence Interval: 98.28 to 98.93 Degrees F\n",
      "Observed Average Body Temperature from Sample: 98.05 Degrees F\n",
      "Observed P-Value is 0.0006\n"
     ]
    }
   ],
   "source": [
    "np.random.seed(42)\n",
    "\n",
    "# Generate a random sample from a sample size of 10\n",
    "n = 10\n",
    "sample = np.random.choice(df['temperature'], n)\n",
    "\n",
    "# Transform our data so that it's mean is 98.6F\n",
    "obs_mu = np.mean(sample)\n",
    "translated_temp = sample - obs_mu + 98.6\n",
    "\n",
    "# Prepare a bootstrap replicate array that will accept 10000 bootstrap replicates\n",
    "size = 10000\n",
    "bs_replicates = np.empty(size)\n",
    "\n",
    "# Generate bootstrap samples with bootstrap replicate means that are all stored in the bootstrap replicates array\n",
    "for i in range(size):\n",
    "    bs_sample = np.random.choice(translated_temp, len(sample))\n",
    "    bs_replicate = np.mean(bs_sample)\n",
    "    bs_replicates[i] = bs_replicate\n",
    "\n",
    "# Generate a confidence interval and p-value using the bootstrap replicates we generated\n",
    "confidence_interval = np.percentile(bs_replicates, [2.5, 97.5])\n",
    "p_value = np.sum(bs_replicates < obs_mu) / size\n",
    "\n",
    "print(f'95% Confidence Interval: {confidence_interval[0]:.2f} to {confidence_interval[1]:.2f} Degrees F')\n",
    "print(f'Observed Average Body Temperature from Sample: {obs_mu:.2f} Degrees F')\n",
    "print(f'Observed P-Value is {p_value}')"
   ]
  },
  {
   "cell_type": "markdown",
   "metadata": {},
   "source": [
    "Our confidence interval using the bootstrapping method is between 98.28&deg;F and 98.93&deg;F. Comparing that to our Bayesian approach's confidence interval of 98.22&deg;F and 98.98&deg;F and you get nearly the same results either way. The p-value that our 98.05&deg;F mean observation yields is 0.0006. This means that 0.0006 of the 10,000 bootstrap replicates lie below the observed body temperature. With the bootstrapping method, we are 95% confident that the true average body temperature lies between 98.22&deg;F and 98.98&deg;F. Because our observed body temperature lies outside this interval, we will reject the null hypothesis that the true average body temperature is 98.6&deg;F in favor for the alternative that the average body temperature is not 98.6&deg;F"
   ]
  },
  {
   "cell_type": "code",
   "execution_count": 14,
   "metadata": {
    "scrolled": true
   },
   "outputs": [
    {
     "data": {
      "image/png": "[encoded data removed]",
      "text/plain": [
       "<Figure size 432x288 with 1 Axes>"
      ]
     },
     "metadata": {
      "needs_background": "light"
     },
     "output_type": "display_data"
    }
   ],
   "source": [
    "rep_mean = np.mean(bs_replicates)\n",
    "\n",
    "# Plot the bootstrap replicates as a PMF histogram\n",
    "_ = plt.hist(bs_replicates, bins=bins, density=True, color='blue')\n",
    "\n",
    "# Create vertical lines for all the generated data that we collected\n",
    "obs_mu_line = plt.axvline(obs_mu, color='green', linestyle='dashed', linewidth=2, label='Observed Mean')\n",
    "rep_mean_line = plt.axvline(rep_mean, color='black', linestyle='dashed', linewidth=3, label='Hypothesis Mean')\n",
    "interval_low = plt.axvline(confidence_interval[0], color='red', linestyle='dashed', linewidth=1, label='Interval')\n",
    "interval_high = plt.axvline(confidence_interval[1], color='red', linestyle='dashed', linewidth=1, label='Interval')\n",
    "_ = plt.xlabel('Human Body Temperature')\n",
    "_ = plt.ylabel('PMF')\n",
    "_ = plt.legend(handles=[obs_mu_line, rep_mean_line, interval_low, interval_high], loc='upper right')\n",
    "plt.show()"
   ]
  },
  {
   "cell_type": "markdown",
   "metadata": {},
   "source": [
    "Here is the PMF for this bootstrapping test which posts similar distributions to the Bayesian PMF. One question to ask is which test (the Bayesian approach or bootstrapping) is appropriate for this example. The answer is either works, but both need to be set up properly. For the Bayesian approach you need to make sure that you are sampling 10 random points from the data set and using the appropriate critical t-score $t*$ to create the correct boundaries for the confidence interval. For the bootstrapping approach, you need to make sure that you translate the mean properly and generate bootstrap replicates from randomly generated bootstrap samples. Either approach yields approximately the same results, so setting up the tests correctly should be the main priority. And as with all confidence interval tests, the more samples that you sample from, the more accurate your test gets to measuring the true proportion metric."
   ]
  },
  {
   "cell_type": "markdown",
   "metadata": {},
   "source": [
    "#### 5. At what temperature should we consider someone's temperature to be \"abnormal\"?"
   ]
  },
  {
   "cell_type": "markdown",
   "metadata": {},
   "source": [
    "##### a. The Bayesian Approach to Defining Abnormality"
   ]
  },
  {
   "cell_type": "markdown",
   "metadata": {},
   "source": [
    "Now that we've established that our true proportion mean is not 98.6&deg;F, we will now identify when someone's temperature is considered \"abnormal\". Our definition of abnormality for this example will run on a 95% confidence interval of a truly normally distributed sample. This is because we are now assuming that this distribution will encompass all individuals on planet Earth where their individual body temperatures are approximately normally distributed. The standard error for this distribution will then be equal to the standard deviation of our entire data set."
   ]
  },
  {
   "cell_type": "code",
   "execution_count": 15,
   "metadata": {
    "scrolled": true
   },
   "outputs": [
    {
     "name": "stdout",
     "output_type": "stream",
     "text": [
      "Hypothesized Average Body Temperature: 98.25 Degrees F\n",
      "Hypothesized Standard Error: 0.73 Degrees F\n"
     ]
    }
   ],
   "source": [
    "mu_not = np.mean(df['temperature'])\n",
    "std_dev = np.std(df['temperature'])\n",
    "print(f'Hypothesized Average Body Temperature: {mu_not:.2f} Degrees F')\n",
    "print(f'Hypothesized Standard Error: {std_dev:.2f} Degrees F')"
   ]
  },
  {
   "cell_type": "markdown",
   "metadata": {},
   "source": [
    "The average body temperature for this example is the average body temperature of our data set which is 98.25&deg;F. The standard deviation from the mean is 0.73&deg;F."
   ]
  },
  {
   "cell_type": "code",
   "execution_count": 16,
   "metadata": {},
   "outputs": [
    {
     "name": "stdout",
     "output_type": "stream",
     "text": [
      "95% Confidence Interval: 96.82 to 99.68 Degrees F\n"
     ]
    }
   ],
   "source": [
    "# Calculate standard and margins of error\n",
    "margin_error = 1.96 * std_dev\n",
    "\n",
    "# Calculate boundaries for the interval test\n",
    "low_interval = mu_not - margin_error\n",
    "high_interval = mu_not + margin_error\n",
    "\n",
    "# Display the boundaries for the interval test\n",
    "print(f'95% Confidence Interval: {low_interval:.2f} to {high_interval:.2f} Degrees F')"
   ]
  },
  {
   "cell_type": "markdown",
   "metadata": {},
   "source": [
    "Because we are using the z-score to define our confidence interval boundaries, our margin of error for a 95% confidence interval is $\\pm$ 1.96 standard errors away from the mean. Assuming that our 98.25&deg;F average body temperature is true, we are 95% confident that the true human body temperature should be between 96.82&deg;F and 99.68&deg;F. With our stated definition of \"abnormal\" body temperature, we will assume that a person's body temperature outside this interval is not normal."
   ]
  },
  {
   "cell_type": "code",
   "execution_count": 17,
   "metadata": {
    "scrolled": true
   },
   "outputs": [
    {
     "data": {
      "image/png": "[encoded data removed]",
      "text/plain": [
       "<Figure size 432x288 with 1 Axes>"
      ]
     },
     "metadata": {
      "needs_background": "light"
     },
     "output_type": "display_data"
    }
   ],
   "source": [
    "np.random.seed(42)\n",
    "\n",
    "# Create 10,000 normally distributed  samples centered around the proposed mean and spread given our standard error\n",
    "bins = 100\n",
    "samples = np.random.normal(mu_not, std_dev, 10000)\n",
    "\n",
    "# Plot the generated points as a histogram with markers indicating confidence interval, mean, and observation\n",
    "_ = plt.hist(samples, bins=bins, density=True, color='blue')\n",
    "_ = plt.axvline(mu_not, color='black', linestyle='dashed', linewidth=3)\n",
    "_ = plt.axvline(low_interval, color='red', linestyle='dashed', linewidth=1)\n",
    "_ = plt.axvline(high_interval, color='red', linestyle='dashed', linewidth=1)\n",
    "_ = plt.xlabel('Human Body Temperature')\n",
    "_ = plt.ylabel('PMF')\n",
    "_ = plt.legend(('Hypothesis Mean', 'Interval', 'Interval'), loc='upper right')\n",
    "plt.show()"
   ]
  },
  {
   "cell_type": "markdown",
   "metadata": {},
   "source": [
    "With our defined 98.25&deg;F average body temperature, this is the approximate spread of 10,000 individual's body temperatures. Any individuals with body temperatures outside the region marked with the red dotted lines are considered to have \"abnormal\" body temperatures."
   ]
  },
  {
   "cell_type": "markdown",
   "metadata": {},
   "source": [
    "##### b. The Frequentist Approach to Defining Abnormality"
   ]
  },
  {
   "cell_type": "markdown",
   "metadata": {},
   "source": [
    "As with all Bayesian approaches to defining a confidence interval, the same can be accomplished with the frequentist approach of bootstrapping. The caveat to bootstrapping for this example, however, is that we can only pull from the data points we sampled. By nature, this approach to bootstrapping will be discrete since our bootstrap samples are going to be of size 1. The confidence interval should be similar to the Bayesian approach, but the discrete limitations to bootstrapping here is not ideal."
   ]
  },
  {
   "cell_type": "code",
   "execution_count": 18,
   "metadata": {},
   "outputs": [
    {
     "name": "stdout",
     "output_type": "stream",
     "text": [
      "95% Confidence Interval: 96.70 to 99.50 Degrees F\n"
     ]
    }
   ],
   "source": [
    "np.random.seed(42)\n",
    "\n",
    "# Transform our data so that it's mean is 98.6F\n",
    "obs_mu = np.mean(df['temperature'])\n",
    "\n",
    "# Prepare a bootstrap replicate array that will accept 10000 bootstrap replicates\n",
    "size = 10000\n",
    "bs_replicates = np.empty(size)\n",
    "\n",
    "# Generate bootstrap samples with bootstrap replicate means that are all stored in the bootstrap replicates array\n",
    "for i in range(size):\n",
    "    bs_sample = np.random.choice(df['temperature'], 1)\n",
    "    bs_replicate = np.mean(bs_sample)\n",
    "    bs_replicates[i] = bs_replicate\n",
    "\n",
    "# Generate a confidence interval and p-value using the bootstrap replicates we generated\n",
    "confidence_interval = np.percentile(bs_replicates, [2.5, 97.5])\n",
    "\n",
    "# Print Results\n",
    "print(f'95% Confidence Interval: {confidence_interval[0]:.2f} to {confidence_interval[1]:.2f} Degrees F')"
   ]
  },
  {
   "cell_type": "markdown",
   "metadata": {},
   "source": [
    "Comparing the confidence interval to the confidence interval we received from the Bayesian approach, we see a range from 96.7&deg;F to 99.5&deg;F versus 96.8&deg;F and 99.7&deg;F. As expected, the two approaches yield nearly similar results, but since the sample mean should be a continous metric, the Bayesian approach is a more reliable approach for determining the 95% confidence interval over the frequentist approach."
   ]
  },
  {
   "cell_type": "code",
   "execution_count": 19,
   "metadata": {},
   "outputs": [
    {
     "data": {
      "image/png": "[encoded data removed]",
      "text/plain": [
       "<Figure size 432x288 with 1 Axes>"
      ]
     },
     "metadata": {
      "needs_background": "light"
     },
     "output_type": "display_data"
    }
   ],
   "source": [
    "rep_mean = np.mean(bs_replicates)\n",
    "\n",
    "# Plot the bootstrap replicates as a PMF histogram\n",
    "_ = plt.hist(bs_replicates, bins=bins, density=True, color='blue')\n",
    "\n",
    "# Create vertical lines for all the generated data that we collected\n",
    "rep_mean_line = plt.axvline(rep_mean, color='black', linestyle='dashed', linewidth=3, label='Hypothesis Mean')\n",
    "interval_low = plt.axvline(confidence_interval[0], color='red', linestyle='dashed', linewidth=1, label='Interval')\n",
    "interval_high = plt.axvline(confidence_interval[1], color='red', linestyle='dashed', linewidth=1, label='Interval')\n",
    "_ = plt.xlabel('Human Body Temperature')\n",
    "_ = plt.ylabel('PMF')\n",
    "_ = plt.legend(handles=[obs_mu_line, rep_mean_line, interval_low, interval_high], loc='upper right')\n",
    "plt.show()"
   ]
  },
  {
   "cell_type": "markdown",
   "metadata": {},
   "source": [
    "The PMF for the frequentist approach further highlights the limitations for bootstrapping here. There are only 130 discrete values for which the body temperature can take given our limited data set. In fact, with a different seed, some of the 130 values might not even be chosen and skew the distribution outside the expected confidence interval."
   ]
  },
  {
   "cell_type": "markdown",
   "metadata": {},
   "source": [
    "#### 6. Is there a significant difference between males and females in normal temperature?"
   ]
  },
  {
   "cell_type": "markdown",
   "metadata": {},
   "source": [
    "To determine whether or not men and women have differences in body temperatures, we first have to split the genders into two groups, find the average body temperature of men and women separately, then take the difference in average temperatures between the two genders which will also have a new standard error. After that, we will  test our Null Hypothesis that there is no difference between male and female body temperatures. Our alternative hypothesis is that there is a difference between the two genders. We will reject our Null Hypothesis if our observed difference is outside the 95% confidence interval centered around the zero difference. Putting all this information succinctly:\n",
    "\n",
    "$\\overline {x} = \\overline {x(male)}$ - $\\overline {x(female)}$\n",
    "\n",
    "$\\sigma = \\sqrt {\\sigma(male)^{2} + \\sigma(female)^{2}}$\n",
    "\n",
    "$\\sigma(male) = {\\dfrac{Std.Dev.(male)}{\\sqrt{n(male)}}}$\n",
    "\n",
    "$\\sigma(female) = {\\dfrac{Std.Dev.(female)}{\\sqrt{n(female)}}}$\n",
    "\n",
    "H<sub>0</sub>: $\\mu$ = 0\n",
    "\n",
    "H<sub>a</sub>: $\\mu \\neq$ 0\n",
    "\n",
    "$\\alpha = 0.05$"
   ]
  },
  {
   "cell_type": "code",
   "execution_count": 20,
   "metadata": {},
   "outputs": [
    {
     "data": {
      "text/html": [
       "<div>\n",
       "<style scoped>\n",
       "    .dataframe tbody tr th:only-of-type {\n",
       "        vertical-align: middle;\n",
       "    }\n",
       "\n",
       "    .dataframe tbody tr th {\n",
       "        vertical-align: top;\n",
       "    }\n",
       "\n",
       "    .dataframe thead th {\n",
       "        text-align: right;\n",
       "    }\n",
       "</style>\n",
       "<table border=\"1\" class=\"dataframe\">\n",
       "  <thead>\n",
       "    <tr style=\"text-align: right;\">\n",
       "      <th></th>\n",
       "      <th>gender</th>\n",
       "      <th>temperature</th>\n",
       "    </tr>\n",
       "  </thead>\n",
       "  <tbody>\n",
       "    <tr>\n",
       "      <th>2</th>\n",
       "      <td>M</td>\n",
       "      <td>97.8</td>\n",
       "    </tr>\n",
       "    <tr>\n",
       "      <th>5</th>\n",
       "      <td>M</td>\n",
       "      <td>99.2</td>\n",
       "    </tr>\n",
       "    <tr>\n",
       "      <th>6</th>\n",
       "      <td>M</td>\n",
       "      <td>98.0</td>\n",
       "    </tr>\n",
       "    <tr>\n",
       "      <th>7</th>\n",
       "      <td>M</td>\n",
       "      <td>98.8</td>\n",
       "    </tr>\n",
       "    <tr>\n",
       "      <th>12</th>\n",
       "      <td>M</td>\n",
       "      <td>98.2</td>\n",
       "    </tr>\n",
       "  </tbody>\n",
       "</table>\n",
       "</div>"
      ],
      "text/plain": [
       "   gender  temperature\n",
       "2       M         97.8\n",
       "5       M         99.2\n",
       "6       M         98.0\n",
       "7       M         98.8\n",
       "12      M         98.2"
      ]
     },
     "execution_count": 20,
     "metadata": {},
     "output_type": "execute_result"
    }
   ],
   "source": [
    "# Create a separate DataFrame only containing male temperature information\n",
    "male = df.loc[df.gender == 'M',['gender', 'temperature']]\n",
    "male.head()"
   ]
  },
  {
   "cell_type": "code",
   "execution_count": 21,
   "metadata": {},
   "outputs": [
    {
     "data": {
      "text/html": [
       "<div>\n",
       "<style scoped>\n",
       "    .dataframe tbody tr th:only-of-type {\n",
       "        vertical-align: middle;\n",
       "    }\n",
       "\n",
       "    .dataframe tbody tr th {\n",
       "        vertical-align: top;\n",
       "    }\n",
       "\n",
       "    .dataframe thead th {\n",
       "        text-align: right;\n",
       "    }\n",
       "</style>\n",
       "<table border=\"1\" class=\"dataframe\">\n",
       "  <thead>\n",
       "    <tr style=\"text-align: right;\">\n",
       "      <th></th>\n",
       "      <th>gender</th>\n",
       "      <th>temperature</th>\n",
       "    </tr>\n",
       "  </thead>\n",
       "  <tbody>\n",
       "    <tr>\n",
       "      <th>0</th>\n",
       "      <td>F</td>\n",
       "      <td>99.3</td>\n",
       "    </tr>\n",
       "    <tr>\n",
       "      <th>1</th>\n",
       "      <td>F</td>\n",
       "      <td>98.4</td>\n",
       "    </tr>\n",
       "    <tr>\n",
       "      <th>3</th>\n",
       "      <td>F</td>\n",
       "      <td>99.2</td>\n",
       "    </tr>\n",
       "    <tr>\n",
       "      <th>4</th>\n",
       "      <td>F</td>\n",
       "      <td>98.0</td>\n",
       "    </tr>\n",
       "    <tr>\n",
       "      <th>8</th>\n",
       "      <td>F</td>\n",
       "      <td>98.4</td>\n",
       "    </tr>\n",
       "  </tbody>\n",
       "</table>\n",
       "</div>"
      ],
      "text/plain": [
       "  gender  temperature\n",
       "0      F         99.3\n",
       "1      F         98.4\n",
       "3      F         99.2\n",
       "4      F         98.0\n",
       "8      F         98.4"
      ]
     },
     "execution_count": 21,
     "metadata": {},
     "output_type": "execute_result"
    }
   ],
   "source": [
    "# Create a separate DataFrame only containing female temperature information\n",
    "female = df.loc[df.gender == 'F',['gender', 'temperature']]\n",
    "female.head()"
   ]
  },
  {
   "cell_type": "code",
   "execution_count": 22,
   "metadata": {},
   "outputs": [
    {
     "name": "stdout",
     "output_type": "stream",
     "text": [
      "Observed Average Difference Between Male and Female Body Temperatures: -0.29 Degrees F\n",
      "Observed Average Standard Error: 0.13 Degrees F\n"
     ]
    },
    {
     "data": {
      "text/plain": [
       "(-0.289230769230727, 0.12557668521231213)"
      ]
     },
     "execution_count": 22,
     "metadata": {},
     "output_type": "execute_result"
    }
   ],
   "source": [
    "# Find individual male statistics\n",
    "male_temp_mean = np.mean(male['temperature'])\n",
    "male_temp_std = np.std(male['temperature'])\n",
    "male_std_err = male_temp_std / np.sqrt(len(male))\n",
    "\n",
    "# Find individual female statistics\n",
    "female_temp_mean = np.mean(female['temperature'])\n",
    "female_temp_std = np.std(female['temperature'])\n",
    "female_std_err = female_temp_std / np.sqrt(len(female))\n",
    "\n",
    "# Find joint male and female distributions\n",
    "mean_diff = male_temp_mean - female_temp_mean\n",
    "mean_std_err = np.sqrt(male_std_err**2 + female_std_err**2)\n",
    "\n",
    "# Print results\n",
    "print(f'Observed Average Difference Between Male and Female Body Temperatures: {mean_diff:.2f} Degrees F')\n",
    "print(f'Observed Average Standard Error: {mean_std_err:.2f} Degrees F')\n",
    "mean_diff, mean_std_err"
   ]
  },
  {
   "cell_type": "markdown",
   "metadata": {},
   "source": [
    "We find that the mean difference between males and females in our observed data set is -0.28&deg;F with a joint standard error of 0.13&deg;F. Is this difference statistically significant? To determine this, we will generate our confidence interval centered around zero difference and see if our observation lands outside this interval."
   ]
  },
  {
   "cell_type": "code",
   "execution_count": 23,
   "metadata": {},
   "outputs": [
    {
     "name": "stdout",
     "output_type": "stream",
     "text": [
      "95% Confidence Interval: -0.25 to 0.25 Degrees F\n"
     ]
    }
   ],
   "source": [
    "# Centering our average around zero mean\n",
    "mu_not = 0\n",
    "\n",
    "# Calculate standard and margins of error\n",
    "margin_error = 1.96 * mean_std_err\n",
    "\n",
    "# Calculate boundaries for the interval test\n",
    "low_interval = mu_not - margin_error\n",
    "high_interval = mu_not + margin_error\n",
    "\n",
    "# Display the boundaries for the interval test\n",
    "print(f'95% Confidence Interval: {low_interval:.2f} to {high_interval:.2f} Degrees F')"
   ]
  },
  {
   "cell_type": "markdown",
   "metadata": {},
   "source": [
    "With 95% confidence, the true difference between men and women lies around -0.25&deg;F and 0.25&deg;F. We observed that the average difference between male and female body temperatures we -0.28&deg;F which lies outside this confidence interval. To determine how far off our observation is from the zero-difference hypothesis, we find the observation's z-score."
   ]
  },
  {
   "cell_type": "code",
   "execution_count": 24,
   "metadata": {},
   "outputs": [
    {
     "name": "stdout",
     "output_type": "stream",
     "text": [
      "Observed Z-Score is -2.30\n"
     ]
    }
   ],
   "source": [
    "# Calculate the z-value for zero difference between men and women\n",
    "z_value = (mean_diff - mu_not) / mean_std_err\n",
    "print(f'Observed Z-Score is {z_value:.2f}')"
   ]
  },
  {
   "cell_type": "markdown",
   "metadata": {},
   "source": [
    "Our observation is -2.30 standard errors away from the zero-difference mean. With a 95% confidence interval, our observation should be between -1.96 and 1.96 standard errors away from the hypothesized zero-difference for us to fail to reject our null hypothesis. Because our observed difference of -0.25&deg;F between male and female body temperatures lies outside this defined confidence interval, we are going to reject the Null Hypothesis that there is no difference between the two gender's body temperatures in favor for the alternative that there is a difference between their body temperatures."
   ]
  },
  {
   "cell_type": "code",
   "execution_count": 25,
   "metadata": {
    "scrolled": true
   },
   "outputs": [
    {
     "data": {
      "image/png": "[encoded data removed]",
      "text/plain": [
       "<Figure size 432x288 with 1 Axes>"
      ]
     },
     "metadata": {
      "needs_background": "light"
     },
     "output_type": "display_data"
    }
   ],
   "source": [
    "np.random.seed(42)\n",
    "\n",
    "# Create 10,000 normally distributed  samples centered around the proposed mean and spread given our standard error\n",
    "bins = 100\n",
    "samples = np.random.normal(mu_not, mean_std_err, 10000)\n",
    "\n",
    "# Plot the generated points as a histogram with markers indicating confidence interval, mean, and observation\n",
    "_ = plt.hist(samples, bins=bins, density=True, color='blue')\n",
    "_ = plt.axvline(mu_not, color='black', linestyle='dashed', linewidth=3)\n",
    "_ = plt.axvline(low_interval, color='red', linestyle='dashed', linewidth=1)\n",
    "_ = plt.axvline(high_interval, color='red', linestyle='dashed', linewidth=1)\n",
    "_ = plt.axvline(mean_diff, color='green', linestyle='dashed', linewidth=2)\n",
    "_ = plt.xlabel('Difference in Body Temp. (Men - Women)')\n",
    "_ = plt.ylabel('PMF')\n",
    "_ = plt.legend(('Hypothesis Mean', 'Interval', 'Interval', 'Observed Mean'), loc='upper right')\n",
    "plt.show()"
   ]
  },
  {
   "cell_type": "markdown",
   "metadata": {},
   "source": [
    "Illustrating our observations through a PMF shows that the observed difference in green is outside the confidence interval marked in red. Because we are 95% confident that the true difference lies between the two markers in red, we favor the alternative hypothesis that there is a difference between male and female body temperatures."
   ]
  }
 ],
 "metadata": {
  "kernelspec": {
   "display_name": "Python 3",
   "language": "python",
   "name": "python3"
  },
  "language_info": {
   "codemirror_mode": {
    "name": "ipython",
    "version": 3
   },
   "file_extension": ".py",
   "mimetype": "text/x-python",
   "name": "python",
   "nbconvert_exporter": "python",
   "pygments_lexer": "ipython3",
   "version": "3.7.3"
  }
 },
 "nbformat": 4,
 "nbformat_minor": 1
}
