{
 "cells": [
  {
   "cell_type": "markdown",
   "metadata": {},
   "source": [
    "# What is the True Normal Human Body Temperature? \n",
    "\n",
    "#### Background\n",
    "\n",
    "The mean normal body temperature was held to be 37$^{\\circ}$C or 98.6$^{\\circ}$F for more than 120 years since it was first conceptualized and reported by Carl Wunderlich in a famous 1868 book. But, is this value statistically correct?"
   ]
  },
  {
   "cell_type": "markdown",
   "metadata": {},
   "source": [
    "<h3>Exercises</h3>\n",
    "\n",
    "<p>In this exercise, you will analyze a dataset of human body temperatures and employ the concepts of hypothesis testing, confidence intervals, and statistical significance.</p>\n",
    "\n",
    "<p>Answer the following questions <b>in this notebook below and submit to your Github account</b>.</p> \n",
    "\n",
    "<ol>\n",
    "<li>  Is the distribution of body temperatures normal? \n",
    "    <ul>\n",
    "    <li> Although this is not a requirement for the Central Limit Theorem to hold (read the introduction on Wikipedia's page about the CLT carefully: https://en.wikipedia.org/wiki/Central_limit_theorem), it gives us some peace of mind that the population may also be normally distributed if we assume that this sample is representative of the population.\n",
    "    <li> Think about the way you're going to check for the normality of the distribution. Graphical methods are usually used first, but there are also other ways: https://en.wikipedia.org/wiki/Normality_test\n",
    "    </ul>\n",
    "<li>  Is the sample size large? Are the observations independent?\n",
    "    <ul>\n",
    "    <li> Remember that this is a condition for the Central Limit Theorem, and hence the statistical tests we are using, to apply.\n",
    "    </ul>\n",
    "<li>  Is the true population mean really 98.6 degrees F?\n",
    "    <ul>\n",
    "    <li> First, try a bootstrap hypothesis test.\n",
    "    <li> Now, let's try frequentist statistical testing. Would you use a one-sample or two-sample test? Why?\n",
    "    <li> In this situation, is it appropriate to use the $t$ or $z$ statistic? \n",
    "    <li> Now try using the other test. How is the result be different? Why?\n",
    "    </ul>\n",
    "<li>  Draw a small sample of size 10 from the data and repeat both frequentist tests. \n",
    "    <ul>\n",
    "    <li> Which one is the correct one to use? \n",
    "    <li> What do you notice? What does this tell you about the difference in application of the $t$ and $z$ statistic?\n",
    "    </ul>\n",
    "<li>  At what temperature should we consider someone's temperature to be \"abnormal\"?\n",
    "    <ul>\n",
    "    <li> As in the previous example, try calculating everything using the boostrap approach, as well as the frequentist approach.\n",
    "    <li> Start by computing the margin of error and confidence interval. When calculating the confidence interval, keep in mind that you should use the appropriate formula for one draw, and not N draws.\n",
    "    </ul>\n",
    "<li>  Is there a significant difference between males and females in normal temperature?\n",
    "    <ul>\n",
    "    <li> What testing approach did you use and why?\n",
    "    <li> Write a story with your conclusion in the context of the original problem.\n",
    "    </ul>\n",
    "</ol>\n",
    "\n",
    "You can include written notes in notebook cells using Markdown: \n",
    "   - In the control panel at the top, choose Cell > Cell Type > Markdown\n",
    "   - Markdown syntax: http://nestacms.com/docs/creating-content/markdown-cheat-sheet\n",
    "\n",
    "#### Resources\n",
    "\n",
    "+ Information and data sources: http://www.amstat.org/publications/jse/datasets/normtemp.txt, http://www.amstat.org/publications/jse/jse_data_archive.htm\n",
    "+ Markdown syntax: http://nestacms.com/docs/creating-content/markdown-cheat-sheet\n",
    "\n",
    "****"
   ]
  },
  {
   "cell_type": "code",
   "execution_count": 1,
   "metadata": {},
   "outputs": [],
   "source": [
    "import pandas as pd\n",
    "import numpy as np\n",
    "import matplotlib.pyplot as plt\n",
    "import seaborn as sns\n",
    "\n",
    "df = pd.read_csv('data/human_body_temperature.csv')\n",
    "sns.set()"
   ]
  },
  {
   "cell_type": "markdown",
   "metadata": {
    "collapsed": true
   },
   "source": [
    "#### 1. Is the distribution of body temperatures normal?"
   ]
  },
  {
   "cell_type": "markdown",
   "metadata": {},
   "source": [
    "##### a. Checking for Normality Using a Probability Mass Function (PMF)"
   ]
  },
  {
   "cell_type": "markdown",
   "metadata": {},
   "source": [
    "A PMF is a histogram that shows the probability of an event happening within a histogram bin. To find if the body temperature with the given sample is normal, a good first step would be to plot the body temperature as a PMF and compare it to a theoretical PMF where the mean and standard deviation of body temperature are normally distributed. Using ```matplotlib.pyplot```, we graph the body temperature data from the DataFrame in blue with randomly generated normally distributed body temperature data in red."
   ]
  },
  {
   "cell_type": "code",
   "execution_count": 2,
   "metadata": {},
   "outputs": [
    {
     "data": {
      "image/png": "[encoded data removed]",
      "text/plain": [
       "<Figure size 432x288 with 1 Axes>"
      ]
     },
     "metadata": {
      "needs_background": "light"
     },
     "output_type": "display_data"
    }
   ],
   "source": [
    "np.random.seed(42)\n",
    "\n",
    "# Generate normally distributed average body temperatures from the collected data\n",
    "samples = np.random.normal(np.mean(df['temperature']), np.std(df['temperature']), len(df['temperature']))\n",
    "\n",
    "# Use the commonly accepted guideline of sqrt(n) number of bins for the PMF\n",
    "bins = int(np.sqrt(len(df['temperature'])))\n",
    "\n",
    "# Plot the observed PMF and normally distributed PMF\n",
    "_ = plt.hist(df['temperature'], bins=bins, color='blue', density=True)\n",
    "_ = plt.hist(samples, bins=bins, color='red', alpha=0.4, density=True)\n",
    "_ = plt.xlabel('Body Temperature')\n",
    "_ = plt.ylabel('Number of People')\n",
    "_ = plt.legend(('Actual', 'Theoretical'), loc='upper right')\n",
    "plt.show()"
   ]
  },
  {
   "cell_type": "markdown",
   "metadata": {},
   "source": [
    "We can see from this plot that the distribution of the actual data is around the same as the distribution from the generated normal data. You can argue that the actual data is slightly skewed right from the PMF, so another check for normality is by using an Empirical Cumulative Distribution Function (ECDF)."
   ]
  },
  {
   "cell_type": "markdown",
   "metadata": {},
   "source": [
    "##### b. Checking for Normality Using an Empirical Cumulative Distribution Function (ECDF)"
   ]
  },
  {
   "cell_type": "markdown",
   "metadata": {},
   "source": [
    "An ECDF is a graph that shows the proportion of events equal to or less than the provided value along the x-axis. For this example, the plotted points are for body temperature. The points in blue correspond to body temperature values provided in the DataFrame and the points in red correspond to the same randomly generated and normally distributed body temperature data we made for the PMF."
   ]
  },
  {
   "cell_type": "code",
   "execution_count": 3,
   "metadata": {},
   "outputs": [
    {
     "data": {
      "image/png": "[encoded data removed]",
      "text/plain": [
       "<Figure size 432x288 with 1 Axes>"
      ]
     },
     "metadata": {
      "needs_background": "light"
     },
     "output_type": "display_data"
    }
   ],
   "source": [
    "np.random.seed(42)\n",
    "\n",
    "# Prepare the body temperature data from the DataFrame as an Empirical Cumulative Distribution Function (ECDF)\n",
    "temp_sort = np.sort(df['temperature'])\n",
    "p_norm = np.arange(1, len(temp_sort) + 1) / len(temp_sort)\n",
    "\n",
    "# Prepare normally distributed body temperature data from the DataFrame as an ECDF\n",
    "samples_sort = np.sort(samples)\n",
    "\n",
    "# Plot the actual body temperature data ECDF and the normally distributed body temperature data ECDF\n",
    "_ = plt.plot(temp_sort, p_norm, marker='.', linestyle='none', color = 'blue')\n",
    "_ = plt.plot(samples_sort, p_norm, marker='.', linestyle='none', color='red', alpha=0.2)\n",
    "_ = plt.xlabel('Body Temperature')\n",
    "_ = plt.ylabel('CDF')\n",
    "_ = plt.legend(('Actual', 'Theoretical'))\n",
    "plt.show()"
   ]
  },
  {
   "cell_type": "markdown",
   "metadata": {},
   "source": [
    "From the ECDF, we can see that the actual values roughly follow the normal generated values. We are going to assume that the data from the observations are normally distributed for the rest of the exercises."
   ]
  },
  {
   "cell_type": "markdown",
   "metadata": {},
   "source": [
    "#### 2. Is the sample size large? Are the observations independent?"
   ]
  },
  {
   "cell_type": "markdown",
   "metadata": {},
   "source": [
    "To make statistical inferences about the data, we first have to check if we have enough sampled data. Since we are trying to infer true population mean from a sample, a commonly accepted baseline sample size for this metric is 30."
   ]
  },
  {
   "cell_type": "code",
   "execution_count": 4,
   "metadata": {
    "scrolled": false
   },
   "outputs": [
    {
     "data": {
      "text/plain": [
       "130"
      ]
     },
     "execution_count": 4,
     "metadata": {},
     "output_type": "execute_result"
    }
   ],
   "source": [
    "# Find how many human body temperature observations we have in the DataFrame\n",
    "n = len(df['temperature'])\n",
    "n"
   ]
  },
  {
   "cell_type": "markdown",
   "metadata": {},
   "source": [
    "From this experiment, we measured the body temperature of 130 individuals. From the Central Limit Theorem that sets a baseline sample count of 30 for normality, we can assume that we sampled enough people to infer population mean from the sample.\n",
    "\n",
    "In order to assume that these observations are independent, it's accepted practice that the samples are independent if the sample size is less than or equal to 10% of the population. Since more that 1300 people exist at any point in time, it is safe to say that these observations are independent.\n",
    "\n",
    "Also, although it isn't asked, we are going to assume that the sample of people was randomly selected and representative of the population on Earth."
   ]
  },
  {
   "cell_type": "markdown",
   "metadata": {},
   "source": [
    "#### 3. Is the true population mean really 98.6 degrees F?"
   ]
  },
  {
   "cell_type": "markdown",
   "metadata": {},
   "source": [
    "##### a. Stating our Null Hypothesis"
   ]
  },
  {
   "cell_type": "markdown",
   "metadata": {},
   "source": [
    "In order to find if Carl Wunderlich's assertion that whether or not the average human body temperature is 98.6&deg;F is true, we are going to set up a Null Hypothesis Test. The Null Hypothesis is that the true population mean is equal to 98.6&deg;F and the Alternative Hypothesis is that the true population mean is not equal to 98.6&deg;F. \n",
    "\n",
    "H<sub>0</sub>: $\\mu$ = 98.6&deg;F\n",
    "\n",
    "H<sub>a</sub>: $\\mu \\neq$ 98.6&deg;F\n",
    "\n",
    "For this Null Hypothesis Test, we will set the $\\alpha$ = 0.05 for a 95% confidence interval. If our observed mean value is within the 95% confidence interval, we will fail to reject the Null Hypothesis in favor of Wunderlich's statement that the mean human body temperature is equal to 98.6&deg;F. If our observed mean is outside the confidence interval, then we will reject the Null Hypothesis in favor for our Alternative Hypothesis that the average human body temperature is not 98.6&deg;F."
   ]
  },
  {
   "cell_type": "markdown",
   "metadata": {},
   "source": [
    "##### b. Performing the Null Hypothesis Test Mathematically"
   ]
  },
  {
   "cell_type": "markdown",
   "metadata": {},
   "source": [
    "To perform the Null Hypothesis Test mathematically, we must first find the mean and standard deviation of the sample."
   ]
  },
  {
   "cell_type": "code",
   "execution_count": 5,
   "metadata": {},
   "outputs": [
    {
     "data": {
      "text/plain": [
       "(98.24923076923078, 0.7303577789050377)"
      ]
     },
     "execution_count": 5,
     "metadata": {},
     "output_type": "execute_result"
    }
   ],
   "source": [
    "obs_mu = np.mean(df['temperature'])\n",
    "obs_std = np.std(df['temperature'])\n",
    "obs_mu, obs_std"
   ]
  },
  {
   "cell_type": "markdown",
   "metadata": {},
   "source": [
    "From the observed data, we find that the average body temperature is 98.25&deg;F with a standard deviation of 0.73&deg;F. To find the upper and lower boundaries for our confidence interval, we would normally use a t-table. The t-table provides the area under the normal curve given the standard deviation of the sample and its sample size. But since we have 130 samples, the sample size is sufficiently large to assume that the critical t-value $t*$ would be approximately equal to the critical z-value $z*$ from a z-table. A z-table provides values of probability areas under the normal curve given multiples of standard deviation. So with 5% of area under the curve for a 95% confidence interval, the critical z-value $z*$ for this test is 1.96. Since the sample spread from the mean is heavily dependent on the sample size, we find the standard error by dividing the standard deviation by $\\sqrt{n}$. Multiplying $z*$ by the standard error provides the acceptable margin of error. The confidence interval is then the hypothesized population mean $\\mu$ = 98.6&deg;F $\\pm$ the acceptable margin of error. "
   ]
  },
  {
   "cell_type": "code",
   "execution_count": 6,
   "metadata": {},
   "outputs": [
    {
     "data": {
      "text/plain": [
       "(98.47444903519741, 98.72555096480258)"
      ]
     },
     "execution_count": 6,
     "metadata": {},
     "output_type": "execute_result"
    }
   ],
   "source": [
    "# Center the test around the hypothesized mean\n",
    "mu_not = 98.6\n",
    "\n",
    "# Calculate standard and margins of error\n",
    "std_err = obs_std / np.sqrt(n)\n",
    "margin_error = 1.96 * std_err\n",
    "\n",
    "# Calculate boundaries for the interval test\n",
    "low_interval = mu_not - margin_error\n",
    "high_interval = mu_not + margin_error\n",
    "\n",
    "# Display the boundaries for the interval test\n",
    "low_interval, high_interval"
   ]
  },
  {
   "cell_type": "markdown",
   "metadata": {},
   "source": [
    "With our sample, we establish that our confidence interval is between 98.47&deg;F and 98.73&deg;F. We can see that our observed sample mean of 98.25&deg;F is outside this interval. To find how far away the observed average body temperature is away from Wunderlich's value, we need to find the z-score for our sample mean. The z-score will provide us with how many standard errors our observed 98.25&deg;F average is from the hypothesis average human body temperature given that our Null Hypothesis was true."
   ]
  },
  {
   "cell_type": "code",
   "execution_count": 7,
   "metadata": {},
   "outputs": [
    {
     "data": {
      "text/plain": [
       "-5.475925202078116"
      ]
     },
     "execution_count": 7,
     "metadata": {},
     "output_type": "execute_result"
    }
   ],
   "source": [
    "# Calculate the z-value for our observed mean given Wunderlich's proposal was true\n",
    "z_value = (obs_mu - mu_not) / std_err\n",
    "z_value"
   ]
  },
  {
   "cell_type": "markdown",
   "metadata": {},
   "source": [
    "The z-value here is -5.48. This means that our observed mean is 5.48 standard deviations to the left of the assumed  average human body temperature of 98.6&deg;F. Since we started this hypothesis test with an $\\alpha$ = 0.05 assumption whose t-score is -1.96 standard errors away from the mean, we will reject Wunderlich's original observation in favor for the Alternative Hypothesis that the true human body temperature average does not equal 98.6&deg;F. "
   ]
  },
  {
   "cell_type": "code",
   "execution_count": 8,
   "metadata": {},
   "outputs": [
    {
     "data": {
      "image/png": "[encoded data removed]",
      "text/plain": [
       "<Figure size 432x288 with 1 Axes>"
      ]
     },
     "metadata": {
      "needs_background": "light"
     },
     "output_type": "display_data"
    }
   ],
   "source": [
    "np.random.seed(42)\n",
    "\n",
    "# Create 10,000 normally distributed  samples centered around the proposed mean and spread given our standard error\n",
    "bins = 100\n",
    "samples = np.random.normal(mu_not, std_err, 10000)\n",
    "\n",
    "# Plot the generated points as a histogram with markers indicating confidence interval, mean, and observation\n",
    "_ = plt.hist(samples, bins=bins, density=True, color='blue')\n",
    "_ = plt.axvline(mu_not, color='black', linestyle='dashed', linewidth=3)\n",
    "_ = plt.axvline(low_interval, color='red', linestyle='dashed', linewidth=1)\n",
    "_ = plt.axvline(high_interval, color='red', linestyle='dashed', linewidth=1)\n",
    "_ = plt.axvline(obs_mu, color='green', linestyle='dashed', linewidth=2)\n",
    "_ = plt.xlabel('Human Body Temperature')\n",
    "_ = plt.ylabel('PMF')\n",
    "_ = plt.legend(('Hypothesis Mean', 'Interval', 'Interval', 'Observed Mean'), loc='upper right')\n",
    "plt.show()"
   ]
  },
  {
   "cell_type": "markdown",
   "metadata": {},
   "source": [
    "To illustrate this point, I constructed a PMF from ten thousand normally distributed random points centered around Wunderlich's average human body temperature with our calculated standard error. The mean is marked by the black dotted line and the confidence interval is marked between the two red dotted lines. The green dotted line shows that our observed average body temperature is far outside the confidence interval."
   ]
  },
  {
   "cell_type": "markdown",
   "metadata": {},
   "source": [
    "##### c. Performing the Hypothesis Test with Bootstrapping"
   ]
  },
  {
   "cell_type": "markdown",
   "metadata": {},
   "source": [
    "Another way we can perform this hypothesis test is through a process known as bootstrapping. Bootstrapping for this example involves randomly sampling with replacement the same amount of observations from the body temperature data that we collected. This provides us with a bootstrap sample that we can use to find a new average body temperature value which is known as a bootstrap replicate. We then gather thousands of bootstrap replicates to generate a distribution of sample means over thousands of trials. The probability of getting a bootstrap replicate equal to or more extreme than the observed body temperature mean will give us a p-value for our observation.\n",
    "\n",
    "In addition, since we only know Wunderlich's proposed human body temperature but don't have his data available to compare to our data, we will be using what is known as a single sample bootstrap. This means we will shift our data so that it has the same mean body temperature of 98.6&deg;F as per Wunderlich's proposal before taking bootstrap samples and replicates."
   ]
  },
  {
   "cell_type": "code",
   "execution_count": 9,
   "metadata": {},
   "outputs": [
    {
     "data": {
      "text/plain": [
       "(array([98.47538462, 98.72461538]), 0.0)"
      ]
     },
     "execution_count": 9,
     "metadata": {},
     "output_type": "execute_result"
    }
   ],
   "source": [
    "np.random.seed(42)\n",
    "\n",
    "# Transform our data so that it's mean is 98.6F\n",
    "obs_mu = np.mean(df['temperature'])\n",
    "translated_temp = df['temperature'] - obs_mu + 98.6\n",
    "\n",
    "# Prepare a bootstrap replicate array that will accept 10000 bootstrap replicates\n",
    "size = 10000\n",
    "bs_replicates = np.empty(size)\n",
    "\n",
    "# Generate bootstrap samples with bootstrap replicate means that are all stored in the bootstrap replicates array\n",
    "for i in range(size):\n",
    "    bs_sample = np.random.choice(translated_temp, len(translated_temp))\n",
    "    bs_replicate = np.mean(bs_sample)\n",
    "    bs_replicates[i] = bs_replicate\n",
    "\n",
    "# Generate a confidence interval and p-value using the bootstrap replicates we generated\n",
    "confidence_interval = np.percentile(bs_replicates, [2.5, 97.5])\n",
    "p_value = np.sum(bs_replicates < obs_mu) / size\n",
    "confidence_interval, p_value"
   ]
  },
  {
   "cell_type": "markdown",
   "metadata": {},
   "source": [
    "After 10,000 trials, our confidence interval is around equal to our calculated confidence interval from the previous step. In addition, not a single trial registered at 98.25&deg;F or less. This suggests what we proved mathematically that the probability of finding an average body temperature less than or equal to our observed body temperature is really low. Once again, from our bootstrap confidence interval test, we are going to reject Wunderlich's assertion that the average human body temperature is equal to 98.6&deg;F in favor for the alternative."
   ]
  },
  {
   "cell_type": "code",
   "execution_count": 10,
   "metadata": {},
   "outputs": [
    {
     "data": {
      "image/png": "[encoded data removed]",
      "text/plain": [
       "<Figure size 432x288 with 1 Axes>"
      ]
     },
     "metadata": {
      "needs_background": "light"
     },
     "output_type": "display_data"
    }
   ],
   "source": [
    "rep_mean = np.mean(bs_replicates)\n",
    "\n",
    "# Plot the bootstrap replicates as a PMF histogram\n",
    "_ = plt.hist(bs_replicates, bins=bins, density=True, color='blue')\n",
    "\n",
    "# Create vertical lines for all the generated data that we collected\n",
    "obs_mu_line = plt.axvline(obs_mu, color='green', linestyle='dashed', linewidth=2, label='Observed Mean')\n",
    "rep_mean_line = plt.axvline(rep_mean, color='black', linestyle='dashed', linewidth=3, label='Hypothesis Mean')\n",
    "interval_low = plt.axvline(confidence_interval[0], color='red', linestyle='dashed', linewidth=1, label='Interval')\n",
    "interval_high = plt.axvline(confidence_interval[1], color='red', linestyle='dashed', linewidth=1, label='Interval')\n",
    "_ = plt.xlabel('Human Body Temperature')\n",
    "_ = plt.ylabel('PMF')\n",
    "_ = plt.legend(handles=[obs_mu_line, rep_mean_line, interval_low, interval_high], loc='upper right')\n",
    "plt.show()"
   ]
  },
  {
   "cell_type": "markdown",
   "metadata": {},
   "source": [
    "Creating a PMF for our bootstrap hypothesis test shows similar results to our mathematical hypothesis test. With the data centered around Wunderlich's claimed body temperature, our observed average body temperature is far away from the original expectation."
   ]
  },
  {
   "cell_type": "markdown",
   "metadata": {},
   "source": [
    "#### 4. Draw a small sample of size 10 from the data and repeat both frequentist tests."
   ]
  },
  {
   "cell_type": "markdown",
   "metadata": {},
   "source": [
    "##### a. Performing a Hypothesis Test Mathematically with a Sample Size of 10"
   ]
  },
  {
   "cell_type": "code",
   "execution_count": 29,
   "metadata": {},
   "outputs": [
    {
     "data": {
      "text/plain": [
       "(97.91863506447949, 98.57982647398207, -1.181177801405813)"
      ]
     },
     "execution_count": 29,
     "metadata": {},
     "output_type": "execute_result"
    }
   ],
   "source": [
    "np.random.seed(42)\n",
    "\n",
    "# Generate a random sample from a sample size of 10\n",
    "n = 10\n",
    "sample = np.random.choice(df['temperature'], n)\n",
    "\n",
    "# Find the observed average and standard deviation from the sample\n",
    "obs_mu = np.mean(sample)\n",
    "obs_std = np.std(sample)\n",
    "\n",
    "# Calculate standard error and margins of error\n",
    "std_err = obs_std / np.sqrt(n)\n",
    "margin_error = 1.96 * std_err\n",
    "\n",
    "# Calculate boundaries for the interval test\n",
    "low_interval = mu_not - margin_error\n",
    "high_interval = mu_not + margin_error\n",
    "\n",
    "# Calculate the z-value for our observed mean given Wunderlich's proposal was true\n",
    "z_value = (obs_mu - mu_not) / std_err\n",
    "\n",
    "# Display the boundaries for the interval test and the z-value\n",
    "low_interval, high_interval, z_value"
   ]
  },
  {
   "cell_type": "code",
   "execution_count": 30,
   "metadata": {},
   "outputs": [
    {
     "data": {
      "image/png": "[encoded data removed]",
      "text/plain": [
       "<Figure size 432x288 with 1 Axes>"
      ]
     },
     "metadata": {
      "needs_background": "light"
     },
     "output_type": "display_data"
    }
   ],
   "source": [
    "np.random.seed(42)\n",
    "\n",
    "# Create 10,000 normally distributed  samples centered around the proposed mean and spread given our standard error\n",
    "bins = 100\n",
    "samples = np.random.normal(mu_not, std_err, 10000)\n",
    "\n",
    "# Plot the generated points as a histogram with markers indicating confidence interval, mean, and observation\n",
    "_ = plt.hist(samples, bins=bins, density=True, color='blue')\n",
    "_ = plt.axvline(mu_not, color='black', linestyle='dashed', linewidth=3)\n",
    "_ = plt.axvline(low_interval, color='red', linestyle='dashed', linewidth=1)\n",
    "_ = plt.axvline(high_interval, color='red', linestyle='dashed', linewidth=1)\n",
    "_ = plt.axvline(obs_mu, color='green', linestyle='dashed', linewidth=2)\n",
    "_ = plt.xlabel('Human Body Temperature')\n",
    "_ = plt.ylabel('PMF')\n",
    "_ = plt.legend(('Hypothesis Mean', 'Interval', 'Interval', 'Observed Mean'), loc='upper right')\n",
    "plt.show()\n"
   ]
  },
  {
   "cell_type": "markdown",
   "metadata": {},
   "source": [
    "##### b. Performing a Hypothesis Test with Bootstrapping"
   ]
  },
  {
   "cell_type": "code",
   "execution_count": 32,
   "metadata": {},
   "outputs": [
    {
     "data": {
      "text/plain": [
       "(array([98.27975, 98.93   ]), 0.0006)"
      ]
     },
     "execution_count": 32,
     "metadata": {},
     "output_type": "execute_result"
    }
   ],
   "source": [
    "np.random.seed(42)\n",
    "\n",
    "# Generate a random sample from a sample size of 10\n",
    "n = 10\n",
    "sample = np.random.choice(df['temperature'], n)\n",
    "\n",
    "# Transform our data so that it's mean is 98.6F\n",
    "obs_mu = np.mean(sample)\n",
    "translated_temp = sample - obs_mu + 98.6\n",
    "\n",
    "# Prepare a bootstrap replicate array that will accept 10000 bootstrap replicates\n",
    "size = 10000\n",
    "bs_replicates = np.empty(size)\n",
    "\n",
    "# Generate bootstrap samples with bootstrap replicate means that are all stored in the bootstrap replicates array\n",
    "for i in range(size):\n",
    "    bs_sample = np.random.choice(translated_temp, len(sample))\n",
    "    bs_replicate = np.mean(bs_sample)\n",
    "    bs_replicates[i] = bs_replicate\n",
    "\n",
    "# Generate a confidence interval and p-value using the bootstrap replicates we generated\n",
    "confidence_interval = np.percentile(bs_replicates, [2.5, 97.5])\n",
    "p_value = np.sum(bs_replicates < obs_mu) / size\n",
    "confidence_interval, p_value"
   ]
  },
  {
   "cell_type": "code",
   "execution_count": 14,
   "metadata": {},
   "outputs": [
    {
     "data": {
      "image/png": "[encoded data removed]",
      "text/plain": [
       "<Figure size 432x288 with 1 Axes>"
      ]
     },
     "metadata": {
      "needs_background": "light"
     },
     "output_type": "display_data"
    }
   ],
   "source": [
    "rep_mean = np.mean(bs_replicates)\n",
    "\n",
    "# Plot the bootstrap replicates as a PMF histogram\n",
    "_ = plt.hist(bs_replicates, bins=bins, density=True, color='blue')\n",
    "\n",
    "# Create vertical lines for all the generated data that we collected\n",
    "obs_mu_line = plt.axvline(obs_mu, color='green', linestyle='dashed', linewidth=2, label='Observed Mean')\n",
    "rep_mean_line = plt.axvline(rep_mean, color='black', linestyle='dashed', linewidth=3, label='Hypothesis Mean')\n",
    "interval_low = plt.axvline(confidence_interval[0], color='red', linestyle='dashed', linewidth=1, label='Interval')\n",
    "interval_high = plt.axvline(confidence_interval[1], color='red', linestyle='dashed', linewidth=1, label='Interval')\n",
    "_ = plt.xlabel('Human Body Temperature')\n",
    "_ = plt.ylabel('PMF')\n",
    "_ = plt.legend(handles=[obs_mu_line, rep_mean_line, interval_low, interval_high], loc='upper right')\n",
    "plt.show()"
   ]
  },
  {
   "cell_type": "markdown",
   "metadata": {},
   "source": [
    "#### 5. At what temperature should we consider someone's temperature to be \"abnormal\"?"
   ]
  },
  {
   "cell_type": "code",
   "execution_count": 17,
   "metadata": {},
   "outputs": [
    {
     "data": {
      "text/plain": [
       "(98.24923076923078, 0.7303577789050377)"
      ]
     },
     "execution_count": 17,
     "metadata": {},
     "output_type": "execute_result"
    }
   ],
   "source": [
    "mu_not = np.mean(df['temperature'])\n",
    "std_dev = np.std(df['temperature'])\n",
    "mu_not, std_dev"
   ]
  },
  {
   "cell_type": "code",
   "execution_count": 18,
   "metadata": {},
   "outputs": [
    {
     "data": {
      "text/plain": [
       "(96.8177295225769, 99.68073201588466)"
      ]
     },
     "execution_count": 18,
     "metadata": {},
     "output_type": "execute_result"
    }
   ],
   "source": [
    "# Calculate standard and margins of error\n",
    "margin_error = 1.96 * std_dev\n",
    "\n",
    "# Calculate boundaries for the interval test\n",
    "low_interval = mu_not - margin_error\n",
    "high_interval = mu_not + margin_error\n",
    "\n",
    "# Display the boundaries for the interval test\n",
    "low_interval, high_interval"
   ]
  },
  {
   "cell_type": "code",
   "execution_count": 19,
   "metadata": {},
   "outputs": [
    {
     "data": {
      "image/png": "[encoded data removed]",
      "text/plain": [
       "<Figure size 432x288 with 1 Axes>"
      ]
     },
     "metadata": {
      "needs_background": "light"
     },
     "output_type": "display_data"
    }
   ],
   "source": [
    "np.random.seed(42)\n",
    "\n",
    "# Create 10,000 normally distributed  samples centered around the proposed mean and spread given our standard error\n",
    "bins = 100\n",
    "samples = np.random.normal(mu_not, std_dev, 10000)\n",
    "\n",
    "# Plot the generated points as a histogram with markers indicating confidence interval, mean, and observation\n",
    "_ = plt.hist(samples, bins=bins, density=True, color='blue')\n",
    "_ = plt.axvline(mu_not, color='black', linestyle='dashed', linewidth=3)\n",
    "_ = plt.axvline(low_interval, color='red', linestyle='dashed', linewidth=1)\n",
    "_ = plt.axvline(high_interval, color='red', linestyle='dashed', linewidth=1)\n",
    "_ = plt.xlabel('Human Body Temperature')\n",
    "_ = plt.ylabel('PMF')\n",
    "_ = plt.legend(('Hypothesis Mean', 'Interval', 'Interval'), loc='upper right')\n",
    "plt.show()"
   ]
  },
  {
   "cell_type": "code",
   "execution_count": 28,
   "metadata": {},
   "outputs": [
    {
     "data": {
      "text/plain": [
       "array([96.7, 99.5])"
      ]
     },
     "execution_count": 28,
     "metadata": {},
     "output_type": "execute_result"
    }
   ],
   "source": [
    "np.random.seed(42)\n",
    "\n",
    "# Transform our data so that it's mean is 98.6F\n",
    "obs_mu = np.mean(df['temperature'])\n",
    "\n",
    "# Prepare a bootstrap replicate array that will accept 10000 bootstrap replicates\n",
    "size = 10000\n",
    "bs_replicates = np.empty(size)\n",
    "\n",
    "# Generate bootstrap samples with bootstrap replicate means that are all stored in the bootstrap replicates array\n",
    "for i in range(size):\n",
    "    bs_sample = np.random.choice(df['temperature'], 1)\n",
    "    bs_replicate = np.mean(bs_sample)\n",
    "    bs_replicates[i] = bs_replicate\n",
    "\n",
    "# Generate a confidence interval and p-value using the bootstrap replicates we generated\n",
    "confidence_interval = np.percentile(bs_replicates, [2.5, 97.5])\n",
    "confidence_interval"
   ]
  },
  {
   "cell_type": "code",
   "execution_count": 24,
   "metadata": {},
   "outputs": [
    {
     "data": {
      "image/png": "[encoded data removed]",
      "text/plain": [
       "<Figure size 432x288 with 1 Axes>"
      ]
     },
     "metadata": {
      "needs_background": "light"
     },
     "output_type": "display_data"
    }
   ],
   "source": [
    "rep_mean = np.mean(bs_replicates)\n",
    "\n",
    "# Plot the bootstrap replicates as a PMF histogram\n",
    "_ = plt.hist(bs_replicates, bins=bins, density=True, color='blue')\n",
    "\n",
    "# Create vertical lines for all the generated data that we collected\n",
    "rep_mean_line = plt.axvline(rep_mean, color='black', linestyle='dashed', linewidth=3, label='Hypothesis Mean')\n",
    "interval_low = plt.axvline(confidence_interval[0], color='red', linestyle='dashed', linewidth=1, label='Interval')\n",
    "interval_high = plt.axvline(confidence_interval[1], color='red', linestyle='dashed', linewidth=1, label='Interval')\n",
    "_ = plt.xlabel('Human Body Temperature')\n",
    "_ = plt.ylabel('PMF')\n",
    "_ = plt.legend(handles=[obs_mu_line, rep_mean_line, interval_low, interval_high], loc='upper right')\n",
    "plt.show()"
   ]
  },
  {
   "cell_type": "markdown",
   "metadata": {},
   "source": [
    "#### 6. Is there a significant difference between males and females in normal temperature?"
   ]
  },
  {
   "cell_type": "code",
   "execution_count": 35,
   "metadata": {},
   "outputs": [
    {
     "data": {
      "text/html": [
       "<div>\n",
       "<style scoped>\n",
       "    .dataframe tbody tr th:only-of-type {\n",
       "        vertical-align: middle;\n",
       "    }\n",
       "\n",
       "    .dataframe tbody tr th {\n",
       "        vertical-align: top;\n",
       "    }\n",
       "\n",
       "    .dataframe thead th {\n",
       "        text-align: right;\n",
       "    }\n",
       "</style>\n",
       "<table border=\"1\" class=\"dataframe\">\n",
       "  <thead>\n",
       "    <tr style=\"text-align: right;\">\n",
       "      <th></th>\n",
       "      <th>temperature</th>\n",
       "      <th>gender</th>\n",
       "      <th>heart_rate</th>\n",
       "    </tr>\n",
       "  </thead>\n",
       "  <tbody>\n",
       "    <tr>\n",
       "      <th>0</th>\n",
       "      <td>99.3</td>\n",
       "      <td>F</td>\n",
       "      <td>68.0</td>\n",
       "    </tr>\n",
       "    <tr>\n",
       "      <th>1</th>\n",
       "      <td>98.4</td>\n",
       "      <td>F</td>\n",
       "      <td>81.0</td>\n",
       "    </tr>\n",
       "    <tr>\n",
       "      <th>2</th>\n",
       "      <td>97.8</td>\n",
       "      <td>M</td>\n",
       "      <td>73.0</td>\n",
       "    </tr>\n",
       "    <tr>\n",
       "      <th>3</th>\n",
       "      <td>99.2</td>\n",
       "      <td>F</td>\n",
       "      <td>66.0</td>\n",
       "    </tr>\n",
       "    <tr>\n",
       "      <th>4</th>\n",
       "      <td>98.0</td>\n",
       "      <td>F</td>\n",
       "      <td>73.0</td>\n",
       "    </tr>\n",
       "  </tbody>\n",
       "</table>\n",
       "</div>"
      ],
      "text/plain": [
       "   temperature gender  heart_rate\n",
       "0         99.3      F        68.0\n",
       "1         98.4      F        81.0\n",
       "2         97.8      M        73.0\n",
       "3         99.2      F        66.0\n",
       "4         98.0      F        73.0"
      ]
     },
     "execution_count": 35,
     "metadata": {},
     "output_type": "execute_result"
    }
   ],
   "source": [
    "df.head()"
   ]
  },
  {
   "cell_type": "code",
   "execution_count": null,
   "metadata": {},
   "outputs": [],
   "source": []
  },
  {
   "cell_type": "code",
   "execution_count": null,
   "metadata": {},
   "outputs": [],
   "source": []
  },
  {
   "cell_type": "code",
   "execution_count": null,
   "metadata": {},
   "outputs": [],
   "source": []
  },
  {
   "cell_type": "code",
   "execution_count": null,
   "metadata": {},
   "outputs": [],
   "source": []
  }
 ],
 "metadata": {
  "kernelspec": {
   "display_name": "Python 3",
   "language": "python",
   "name": "python3"
  },
  "language_info": {
   "codemirror_mode": {
    "name": "ipython",
    "version": 3
   },
   "file_extension": ".py",
   "mimetype": "text/x-python",
   "name": "python",
   "nbconvert_exporter": "python",
   "pygments_lexer": "ipython3",
   "version": "3.7.3"
  }
 },
 "nbformat": 4,
 "nbformat_minor": 1
}
