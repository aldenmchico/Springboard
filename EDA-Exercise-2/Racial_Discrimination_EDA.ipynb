{
 "cells": [
  {
   "cell_type": "markdown",
   "metadata": {},
   "source": [
    "# Examining Racial Discrimination in the US Job Market\n",
    "\n",
    "### Background\n",
    "Racial discrimination continues to be pervasive in cultures throughout the world. Researchers examined the level of racial discrimination in the United States labor market by randomly assigning identical résumés to black-sounding or white-sounding names and observing the impact on requests for interviews from employers.\n",
    "\n",
    "### Data\n",
    "In the dataset provided, each row represents a resume. The 'race' column has two values, 'b' and 'w', indicating black-sounding and white-sounding. The column 'call' has two values, 1 and 0, indicating whether the resume received a call from employers or not.\n",
    "\n",
    "Note that the 'b' and 'w' values in race are assigned randomly to the resumes when presented to the employer."
   ]
  },
  {
   "cell_type": "markdown",
   "metadata": {},
   "source": [
    "### Exercises\n",
    "You will perform a statistical analysis to establish whether race has a significant impact on the rate of callbacks for resumes.\n",
    "\n",
    "Answer the following questions **in this notebook below and submit to your Github account**. \n",
    "\n",
    "   1. What test is appropriate for this problem? Does CLT apply?\n",
    "   2. What are the null and alternate hypotheses?\n",
    "   3. Compute margin of error, confidence interval, and p-value. Try using both the bootstrapping and the frequentist statistical approaches.\n",
    "   4. Write a story describing the statistical significance in the context or the original problem.\n",
    "   5. Does your analysis mean that race/name is the most important factor in callback success? Why or why not? If not, how would you amend your analysis?\n",
    "\n",
    "You can include written notes in notebook cells using Markdown: \n",
    "   - In the control panel at the top, choose Cell > Cell Type > Markdown\n",
    "   - Markdown syntax: http://nestacms.com/docs/creating-content/markdown-cheat-sheet\n",
    "\n",
    "#### Resources\n",
    "+ Experiment information and data source: http://www.povertyactionlab.org/evaluation/discrimination-job-market-united-states\n",
    "+ Scipy statistical methods: http://docs.scipy.org/doc/scipy/reference/stats.html \n",
    "+ Markdown syntax: http://nestacms.com/docs/creating-content/markdown-cheat-sheet\n",
    "+ Formulas for the Bernoulli distribution: https://en.wikipedia.org/wiki/Bernoulli_distribution"
   ]
  },
  {
   "cell_type": "code",
   "execution_count": 1,
   "metadata": {},
   "outputs": [],
   "source": [
    "import pandas as pd\n",
    "import numpy as np\n",
    "import matplotlib.pyplot as plt\n",
    "from scipy import stats"
   ]
  },
  {
   "cell_type": "code",
   "execution_count": 2,
   "metadata": {},
   "outputs": [],
   "source": [
    "data = pd.io.stata.read_stata('data/us_job_market_discrimination.dta')"
   ]
  },
  {
   "cell_type": "code",
   "execution_count": 3,
   "metadata": {},
   "outputs": [
    {
     "data": {
      "text/plain": [
       "235.0"
      ]
     },
     "execution_count": 3,
     "metadata": {},
     "output_type": "execute_result"
    }
   ],
   "source": [
    "# number of callbacks for black-sounding names\n",
    "sum(data[data.race=='w'].call)"
   ]
  },
  {
   "cell_type": "code",
   "execution_count": 4,
   "metadata": {},
   "outputs": [
    {
     "data": {
      "text/html": [
       "<div>\n",
       "<style scoped>\n",
       "    .dataframe tbody tr th:only-of-type {\n",
       "        vertical-align: middle;\n",
       "    }\n",
       "\n",
       "    .dataframe tbody tr th {\n",
       "        vertical-align: top;\n",
       "    }\n",
       "\n",
       "    .dataframe thead th {\n",
       "        text-align: right;\n",
       "    }\n",
       "</style>\n",
       "<table border=\"1\" class=\"dataframe\">\n",
       "  <thead>\n",
       "    <tr style=\"text-align: right;\">\n",
       "      <th></th>\n",
       "      <th>id</th>\n",
       "      <th>ad</th>\n",
       "      <th>education</th>\n",
       "      <th>ofjobs</th>\n",
       "      <th>yearsexp</th>\n",
       "      <th>honors</th>\n",
       "      <th>volunteer</th>\n",
       "      <th>military</th>\n",
       "      <th>empholes</th>\n",
       "      <th>occupspecific</th>\n",
       "      <th>...</th>\n",
       "      <th>compreq</th>\n",
       "      <th>orgreq</th>\n",
       "      <th>manuf</th>\n",
       "      <th>transcom</th>\n",
       "      <th>bankreal</th>\n",
       "      <th>trade</th>\n",
       "      <th>busservice</th>\n",
       "      <th>othservice</th>\n",
       "      <th>missind</th>\n",
       "      <th>ownership</th>\n",
       "    </tr>\n",
       "  </thead>\n",
       "  <tbody>\n",
       "    <tr>\n",
       "      <th>0</th>\n",
       "      <td>b</td>\n",
       "      <td>1</td>\n",
       "      <td>4</td>\n",
       "      <td>2</td>\n",
       "      <td>6</td>\n",
       "      <td>0</td>\n",
       "      <td>0</td>\n",
       "      <td>0</td>\n",
       "      <td>1</td>\n",
       "      <td>17</td>\n",
       "      <td>...</td>\n",
       "      <td>1.0</td>\n",
       "      <td>0.0</td>\n",
       "      <td>1.0</td>\n",
       "      <td>0.0</td>\n",
       "      <td>0.0</td>\n",
       "      <td>0.0</td>\n",
       "      <td>0.0</td>\n",
       "      <td>0.0</td>\n",
       "      <td>0.0</td>\n",
       "      <td></td>\n",
       "    </tr>\n",
       "    <tr>\n",
       "      <th>1</th>\n",
       "      <td>b</td>\n",
       "      <td>1</td>\n",
       "      <td>3</td>\n",
       "      <td>3</td>\n",
       "      <td>6</td>\n",
       "      <td>0</td>\n",
       "      <td>1</td>\n",
       "      <td>1</td>\n",
       "      <td>0</td>\n",
       "      <td>316</td>\n",
       "      <td>...</td>\n",
       "      <td>1.0</td>\n",
       "      <td>0.0</td>\n",
       "      <td>1.0</td>\n",
       "      <td>0.0</td>\n",
       "      <td>0.0</td>\n",
       "      <td>0.0</td>\n",
       "      <td>0.0</td>\n",
       "      <td>0.0</td>\n",
       "      <td>0.0</td>\n",
       "      <td></td>\n",
       "    </tr>\n",
       "    <tr>\n",
       "      <th>2</th>\n",
       "      <td>b</td>\n",
       "      <td>1</td>\n",
       "      <td>4</td>\n",
       "      <td>1</td>\n",
       "      <td>6</td>\n",
       "      <td>0</td>\n",
       "      <td>0</td>\n",
       "      <td>0</td>\n",
       "      <td>0</td>\n",
       "      <td>19</td>\n",
       "      <td>...</td>\n",
       "      <td>1.0</td>\n",
       "      <td>0.0</td>\n",
       "      <td>1.0</td>\n",
       "      <td>0.0</td>\n",
       "      <td>0.0</td>\n",
       "      <td>0.0</td>\n",
       "      <td>0.0</td>\n",
       "      <td>0.0</td>\n",
       "      <td>0.0</td>\n",
       "      <td></td>\n",
       "    </tr>\n",
       "    <tr>\n",
       "      <th>3</th>\n",
       "      <td>b</td>\n",
       "      <td>1</td>\n",
       "      <td>3</td>\n",
       "      <td>4</td>\n",
       "      <td>6</td>\n",
       "      <td>0</td>\n",
       "      <td>1</td>\n",
       "      <td>0</td>\n",
       "      <td>1</td>\n",
       "      <td>313</td>\n",
       "      <td>...</td>\n",
       "      <td>1.0</td>\n",
       "      <td>0.0</td>\n",
       "      <td>1.0</td>\n",
       "      <td>0.0</td>\n",
       "      <td>0.0</td>\n",
       "      <td>0.0</td>\n",
       "      <td>0.0</td>\n",
       "      <td>0.0</td>\n",
       "      <td>0.0</td>\n",
       "      <td></td>\n",
       "    </tr>\n",
       "    <tr>\n",
       "      <th>4</th>\n",
       "      <td>b</td>\n",
       "      <td>1</td>\n",
       "      <td>3</td>\n",
       "      <td>3</td>\n",
       "      <td>22</td>\n",
       "      <td>0</td>\n",
       "      <td>0</td>\n",
       "      <td>0</td>\n",
       "      <td>0</td>\n",
       "      <td>313</td>\n",
       "      <td>...</td>\n",
       "      <td>1.0</td>\n",
       "      <td>1.0</td>\n",
       "      <td>0.0</td>\n",
       "      <td>0.0</td>\n",
       "      <td>0.0</td>\n",
       "      <td>0.0</td>\n",
       "      <td>0.0</td>\n",
       "      <td>1.0</td>\n",
       "      <td>0.0</td>\n",
       "      <td>Nonprofit</td>\n",
       "    </tr>\n",
       "  </tbody>\n",
       "</table>\n",
       "<p>5 rows × 65 columns</p>\n",
       "</div>"
      ],
      "text/plain": [
       "  id ad  education  ofjobs  yearsexp  honors  volunteer  military  empholes  \\\n",
       "0  b  1          4       2         6       0          0         0         1   \n",
       "1  b  1          3       3         6       0          1         1         0   \n",
       "2  b  1          4       1         6       0          0         0         0   \n",
       "3  b  1          3       4         6       0          1         0         1   \n",
       "4  b  1          3       3        22       0          0         0         0   \n",
       "\n",
       "   occupspecific  ...  compreq  orgreq  manuf  transcom  bankreal trade  \\\n",
       "0             17  ...      1.0     0.0    1.0       0.0       0.0   0.0   \n",
       "1            316  ...      1.0     0.0    1.0       0.0       0.0   0.0   \n",
       "2             19  ...      1.0     0.0    1.0       0.0       0.0   0.0   \n",
       "3            313  ...      1.0     0.0    1.0       0.0       0.0   0.0   \n",
       "4            313  ...      1.0     1.0    0.0       0.0       0.0   0.0   \n",
       "\n",
       "  busservice othservice  missind  ownership  \n",
       "0        0.0        0.0      0.0             \n",
       "1        0.0        0.0      0.0             \n",
       "2        0.0        0.0      0.0             \n",
       "3        0.0        0.0      0.0             \n",
       "4        0.0        1.0      0.0  Nonprofit  \n",
       "\n",
       "[5 rows x 65 columns]"
      ]
     },
     "execution_count": 4,
     "metadata": {},
     "output_type": "execute_result"
    }
   ],
   "source": [
    "data.head()"
   ]
  },
  {
   "cell_type": "markdown",
   "metadata": {
    "collapsed": true
   },
   "source": [
    "#### 1. What test is appropriate for this problem? Does CLT apply?"
   ]
  },
  {
   "cell_type": "markdown",
   "metadata": {},
   "source": [
    "From our data set, we want to answer, \"Is there a difference in number of callbacks between black and white people for the job search?\" The Null Hypothesis Test appropriate for this problem given our data is a difference in proportion between black and white job seekers. To answer this question more appropriately for this problem, I will rephrase this question as, \"Is there a proportional difference in callbacks between black job seekers and white job seekers?\" Since we are looking at the proportional difference between the two groups, the Central Limit Theorem doesn't really help us here. Instead, we are going to look at if there are greater than 10 individuals per group and decide whether our normality assumptions apply from there."
   ]
  },
  {
   "cell_type": "markdown",
   "metadata": {},
   "source": [
    "#### 2. What are the null and alternate hypotheses?"
   ]
  },
  {
   "cell_type": "markdown",
   "metadata": {},
   "source": [
    "The Null Hypothesis that we are trying to test is that there is no proportional difference in callbacks between black people and white people when it comes to the job search. Our Alternative Hypothesis is that there is a proportional difference in callbacks between the two races. Put succinctly:\n",
    "\n",
    "$H$<sub>0</sub> : $p = 0$\n",
    "\n",
    "$H$<sub>a</sub> : $p \\neq 0$\n",
    "\n",
    "$p = p(black) - p(white)$\n"
   ]
  },
  {
   "cell_type": "code",
   "execution_count": 5,
   "metadata": {},
   "outputs": [],
   "source": [
    "w = data[data.race=='w']\n",
    "b = data[data.race=='b']"
   ]
  },
  {
   "cell_type": "markdown",
   "metadata": {
    "collapsed": true
   },
   "source": [
    "#### 3. Compute margin of error, confidence interval, and p-value. Try using both the bootstrapping and the frequentist statistical approaches."
   ]
  },
  {
   "cell_type": "markdown",
   "metadata": {},
   "source": [
    "##### a. Answering Our Question Using the Bayesian Approach"
   ]
  },
  {
   "cell_type": "code",
   "execution_count": 6,
   "metadata": {},
   "outputs": [
    {
     "data": {
      "text/plain": [
       "race  call\n",
       "b     0.0     2278\n",
       "      1.0      157\n",
       "w     0.0     2200\n",
       "      1.0      235\n",
       "Name: call, dtype: int64"
      ]
     },
     "execution_count": 6,
     "metadata": {},
     "output_type": "execute_result"
    }
   ],
   "source": [
    "counts = data.groupby(['race', 'call'])['call'].count()\n",
    "counts"
   ]
  },
  {
   "cell_type": "code",
   "execution_count": 7,
   "metadata": {},
   "outputs": [
    {
     "data": {
      "text/html": [
       "<div>\n",
       "<style scoped>\n",
       "    .dataframe tbody tr th:only-of-type {\n",
       "        vertical-align: middle;\n",
       "    }\n",
       "\n",
       "    .dataframe tbody tr th {\n",
       "        vertical-align: top;\n",
       "    }\n",
       "\n",
       "    .dataframe thead th {\n",
       "        text-align: right;\n",
       "    }\n",
       "</style>\n",
       "<table border=\"1\" class=\"dataframe\">\n",
       "  <thead>\n",
       "    <tr style=\"text-align: right;\">\n",
       "      <th></th>\n",
       "      <th></th>\n",
       "      <th>count</th>\n",
       "      <th>proportion</th>\n",
       "    </tr>\n",
       "    <tr>\n",
       "      <th>race</th>\n",
       "      <th>call</th>\n",
       "      <th></th>\n",
       "      <th></th>\n",
       "    </tr>\n",
       "  </thead>\n",
       "  <tbody>\n",
       "    <tr>\n",
       "      <th rowspan=\"2\" valign=\"top\">b</th>\n",
       "      <th>No</th>\n",
       "      <td>2278</td>\n",
       "      <td>0.9355</td>\n",
       "    </tr>\n",
       "    <tr>\n",
       "      <th>Yes</th>\n",
       "      <td>157</td>\n",
       "      <td>0.0645</td>\n",
       "    </tr>\n",
       "    <tr>\n",
       "      <th rowspan=\"2\" valign=\"top\">w</th>\n",
       "      <th>No</th>\n",
       "      <td>2200</td>\n",
       "      <td>0.9035</td>\n",
       "    </tr>\n",
       "    <tr>\n",
       "      <th>Yes</th>\n",
       "      <td>235</td>\n",
       "      <td>0.0965</td>\n",
       "    </tr>\n",
       "  </tbody>\n",
       "</table>\n",
       "</div>"
      ],
      "text/plain": [
       "           count  proportion\n",
       "race call                   \n",
       "b    No     2278      0.9355\n",
       "     Yes     157      0.0645\n",
       "w    No     2200      0.9035\n",
       "     Yes     235      0.0965"
      ]
     },
     "execution_count": 7,
     "metadata": {},
     "output_type": "execute_result"
    }
   ],
   "source": [
    "# Convert the counts series into a working_data DataFrame indexed by race and callback\n",
    "index = pd.MultiIndex.from_product([['b','w'], ['No','Yes']],\n",
    "                                  names=['race','call'])\n",
    "working_data = pd.DataFrame(counts.values, index=index, columns=['count'])\n",
    "\n",
    "''' Find the proportion of callbacks for each race by dividing values from the count column \n",
    "    by the total count of each race in the DataFrame '''\n",
    "total_count = working_data.groupby('race')['count'].sum()\n",
    "working_data['proportion'] = 0\n",
    "working_data.loc['b', 'proportion'] = round(working_data.loc[:,'count'] / total_count['b'], 4)\n",
    "working_data.loc['w', 'proportion'] = round(working_data.loc[:,'count'] / total_count['w'], 4)\n",
    "\n",
    "working_data"
   ]
  },
  {
   "cell_type": "code",
   "execution_count": 8,
   "metadata": {},
   "outputs": [
    {
     "name": "stdout",
     "output_type": "stream",
     "text": [
      " The observed proportional difference between the two groups is -3.20%\n",
      " The observed standard error between the two groups is 0.78%\n"
     ]
    }
   ],
   "source": [
    "# Find variance for black and white applicants separately\n",
    "var_black = working_data.loc[('b','Yes'), 'proportion']*working_data.loc[('b','No'), 'proportion']/total_count['b']\n",
    "var_white = working_data.loc[('w','Yes'), 'proportion']*working_data.loc[('w','No'), 'proportion']/total_count['w']\n",
    "\n",
    "# Find the joint proportion differences and standard errors\n",
    "p_diff = working_data.loc[('b','Yes'), 'proportion'] - working_data.loc[('w','Yes'), 'proportion']\n",
    "std_err = np.sqrt(var_black + var_white)\n",
    "\n",
    "# Print Results\n",
    "print(f' The observed proportional difference between the two groups is {p_diff*100:.2f}%')\n",
    "print(f' The observed standard error between the two groups is {std_err*100:.2f}%')"
   ]
  },
  {
   "cell_type": "code",
   "execution_count": 17,
   "metadata": {},
   "outputs": [
    {
     "name": "stdout",
     "output_type": "stream",
     "text": [
      " The margin of error is 1.53%\n",
      " The 95% confidence interval is between -1.53% and 1.53%\n",
      " Our observation is -4.11 standard errors away from our hypothesized difference.\n"
     ]
    }
   ],
   "source": [
    "# Center the proportional difference around zero difference\n",
    "p_not = 0\n",
    "\n",
    "# Find the margin of error for a 95% confidence interval\n",
    "margin_error = 1.96 * std_err\n",
    "\n",
    "# Find the confidence interval using our margin of error\n",
    "confidence_interval_b = np.empty(2)\n",
    "confidence_interval_b[0] = p_not - margin_error\n",
    "confidence_interval_b[1] = p_not + margin_error\n",
    "\n",
    "# Find the z-score for our observation given that our hypothesis is true\n",
    "obs_z_score = (p_diff - p_not) / std_err\n",
    "\n",
    "# Print the results\n",
    "print(f' The margin of error is {margin_error*100:.2f}%')\n",
    "print(f' The 95% confidence interval is between {confidence_interval_b[0]*100:.2f}% and {confidence_interval_b[1]*100:.2f}%')\n",
    "print(f' Our observation is {obs_z_score:.2f} standard errors away from our hypothesized difference.')"
   ]
  },
  {
   "cell_type": "code",
   "execution_count": 10,
   "metadata": {},
   "outputs": [
    {
     "data": {
      "image/png": "[encoded data removed]",
      "text/plain": [
       "<Figure size 432x288 with 1 Axes>"
      ]
     },
     "metadata": {
      "needs_background": "light"
     },
     "output_type": "display_data"
    }
   ],
   "source": [
    "np.random.seed(42)\n",
    "\n",
    "# Create 10,000 normally distributed  samples centered around the proposed mean and spread given our standard error\n",
    "bins = 100\n",
    "samples = np.random.normal(p_not, std_err, 10000)\n",
    "\n",
    "# Plot the generated points as a histogram with markers indicating confidence interval, mean, and observation\n",
    "_ = plt.hist(samples, bins=bins, density=True, color='blue')\n",
    "_ = plt.axvline(p_not, color='black', linestyle='dashed', linewidth=3)\n",
    "_ = plt.axvline(confidence_interval_b[0], color='red', linestyle='dashed', linewidth=1)\n",
    "_ = plt.axvline(confidence_interval_b[1], color='red', linestyle='dashed', linewidth=1)\n",
    "_ = plt.axvline(p_diff, color='green', linestyle='dashed', linewidth=2)\n",
    "_ = plt.xlabel('Proportional Difference in Callbacks Between Black and White Job Applicants')\n",
    "_ = plt.ylabel('PMF')\n",
    "_ = plt.legend(('Hypothesis Difference', 'Interval', 'Interval', 'Observed Difference'), loc='upper right')\n",
    "plt.show()"
   ]
  },
  {
   "cell_type": "markdown",
   "metadata": {},
   "source": [
    "##### b. Answering Our Question Using the Frequentist Approach"
   ]
  },
  {
   "cell_type": "code",
   "execution_count": 26,
   "metadata": {},
   "outputs": [
    {
     "name": "stdout",
     "output_type": "stream",
     "text": [
      " The observed callback rate for black applicants is 6.45%\n",
      " The average callback rate for black applicants is 8.05%\n",
      " The standard error for this distribution is 0.39%\n",
      " The 95% confidence interval is between 7.31% and 8.79%\n",
      " The p-value for our observation is 0.0000\n"
     ]
    }
   ],
   "source": [
    "# Create boolean arrays with True being number of callbacks and False being no callbacks\n",
    "b_apps = np.array([True] * int(working_data.loc[('b','Yes'), 'count']) \n",
    "                  + [False] * int(working_data.loc[('b','No'), 'count']))\n",
    "w_apps = np.array([True] * int(working_data.loc[('w','Yes'), 'count']) \n",
    "                  + [False] * int(working_data.loc[('w','No'), 'count']))\n",
    "\n",
    "size = 10000\n",
    "replicates = np.empty(size)\n",
    "for i in range(size):\n",
    "    \n",
    "    # Generate a combined permutation from the original data\n",
    "    combined = np.concatenate((b_apps, w_apps))\n",
    "    combined = np.random.permutation(combined)\n",
    "    \n",
    "    # Split the data into a sample of black applicants and a sample of white applicants\n",
    "    b_sample = combined[:len(b_apps)]\n",
    "    w_sample = combined[len(b_apps):]\n",
    "    \n",
    "    # Generate a replicate proportion between the black applicants that got a callback and the total black applicants \n",
    "    replicate = np.sum(b_sample) / len(b_sample)\n",
    "    \n",
    "    # Add the replicate to the replicate array\n",
    "    replicates[i] = replicate\n",
    "\n",
    "\n",
    "confidence_interval_f = np.percentile(replicates, [2.5, 97.5])\n",
    "\n",
    "'''Find the p-value by comparing the number of replicates with a proportion less than our \n",
    "   observed number of black acceptances to the total number of replicates we generated '''\n",
    "replicates_mean = np.mean(replicates)\n",
    "replicates_std = np.std(replicates)\n",
    "p_value = np.sum(replicates <= working_data.loc[('b','Yes'), 'proportion']) / len(replicates)\n",
    "\n",
    "# Print the results\n",
    "obs_callback = working_data.loc[('b','Yes'), 'proportion']\n",
    "print(f' The observed callback rate for black applicants is {obs_callback*100:.2f}%')\n",
    "print(f' The average callback rate for black applicants is {replicates_mean*100:.2f}%')\n",
    "print(f' The standard error for this distribution is {replicates_std*100:.2f}%')\n",
    "print(f' The 95% confidence interval is between {confidence_interval_f[0]*100:.2f}% and {confidence_interval_f[1]*100:.2f}%')\n",
    "print(f' The p-value for our observation is {p_value:.4f}')"
   ]
  },
  {
   "cell_type": "code",
   "execution_count": 22,
   "metadata": {},
   "outputs": [
    {
     "data": {
      "image/png": "[encoded data removed]",
      "text/plain": [
       "<Figure size 432x288 with 1 Axes>"
      ]
     },
     "metadata": {
      "needs_background": "light"
     },
     "output_type": "display_data"
    }
   ],
   "source": [
    "# Create a line for the center of the distribution around the average of the bootstrap replicates\n",
    "rep_center = np.percentile(replicates,[50])\n",
    "\n",
    "# Plot the bootstrap replicates as a PMF histogram\n",
    "bins = 100\n",
    "_ = plt.hist(replicates, bins=bins, density=True, color='blue')\n",
    "\n",
    "# Create vertical lines for all the generated data that we collected\n",
    "obs_mu_line = plt.axvline(working_data.loc[('b','Yes'), 'proportion'], color='green', linestyle='dashed', linewidth=2, label='Observed Difference')\n",
    "rep_mean_line = plt.axvline(rep_center, color='black', linestyle='dashed', linewidth=3, label='Hypothesis Difference')\n",
    "interval_low = plt.axvline(confidence_interval_f[0], color='red', linestyle='dashed', linewidth=1, label='Interval')\n",
    "interval_high = plt.axvline(confidence_interval_f[1], color='red', linestyle='dashed', linewidth=1, label='Interval')\n",
    "_ = plt.xlabel('Proportional Callback Rate for Black Job Applicants')\n",
    "_ = plt.ylabel('PMF')\n",
    "_ = plt.legend(handles=[obs_mu_line, rep_mean_line, interval_low, interval_high], loc='upper right')\n",
    "plt.show()"
   ]
  },
  {
   "cell_type": "markdown",
   "metadata": {
    "collapsed": true
   },
   "source": [
    "#### 4. Write a story describing the statistical significance in the context or the original problem."
   ]
  },
  {
   "cell_type": "markdown",
   "metadata": {},
   "source": [
    "How does race affect black and white job applicants in America? This is a question that researchers were curious about when gathering job applicant data from job seekers in the US. Researches based in America looked at race among other factors such as education, number of jobs, and military experience for 4,870 individuals to determine what factors make a significant impact on whether or not employers call back their job applicants.\n",
    "\n",
    "With the data gathered from these researchers, we are looking to see whether or not black applicants are equally likely to receive a callback from potential employers against their white counterparts. To answer this question, we formed a Null Hypothesis that the proportion of black applicants that received callbacks from potential employers employers was equal to white applicants. Conversely, our Alternative Hypothesis stated that the proportion of callbacks between black and white applicants was not equal. We reject the notion that black and white job applicants are called back equally if the sampled difference is outside the 95% confidence interval given that the two groups are called back equally.\n",
    "\n",
    "Using our dataset, we separated job applicants between race and callbacks. With four distinct groups (Black and White, Callback or No Callback), we first analyzed our data to see if we can make a normal assumption. For proportional differences, each group has to have a size greater than 10 observations in order to continue."
   ]
  },
  {
   "cell_type": "code",
   "execution_count": 13,
   "metadata": {},
   "outputs": [
    {
     "data": {
      "text/html": [
       "<div>\n",
       "<style scoped>\n",
       "    .dataframe tbody tr th:only-of-type {\n",
       "        vertical-align: middle;\n",
       "    }\n",
       "\n",
       "    .dataframe tbody tr th {\n",
       "        vertical-align: top;\n",
       "    }\n",
       "\n",
       "    .dataframe thead th {\n",
       "        text-align: right;\n",
       "    }\n",
       "</style>\n",
       "<table border=\"1\" class=\"dataframe\">\n",
       "  <thead>\n",
       "    <tr style=\"text-align: right;\">\n",
       "      <th></th>\n",
       "      <th></th>\n",
       "      <th>count</th>\n",
       "      <th>proportion</th>\n",
       "    </tr>\n",
       "    <tr>\n",
       "      <th>race</th>\n",
       "      <th>call</th>\n",
       "      <th></th>\n",
       "      <th></th>\n",
       "    </tr>\n",
       "  </thead>\n",
       "  <tbody>\n",
       "    <tr>\n",
       "      <th rowspan=\"2\" valign=\"top\">b</th>\n",
       "      <th>No</th>\n",
       "      <td>2278</td>\n",
       "      <td>0.9355</td>\n",
       "    </tr>\n",
       "    <tr>\n",
       "      <th>Yes</th>\n",
       "      <td>157</td>\n",
       "      <td>0.0645</td>\n",
       "    </tr>\n",
       "    <tr>\n",
       "      <th rowspan=\"2\" valign=\"top\">w</th>\n",
       "      <th>No</th>\n",
       "      <td>2200</td>\n",
       "      <td>0.9035</td>\n",
       "    </tr>\n",
       "    <tr>\n",
       "      <th>Yes</th>\n",
       "      <td>235</td>\n",
       "      <td>0.0965</td>\n",
       "    </tr>\n",
       "  </tbody>\n",
       "</table>\n",
       "</div>"
      ],
      "text/plain": [
       "           count  proportion\n",
       "race call                   \n",
       "b    No     2278      0.9355\n",
       "     Yes     157      0.0645\n",
       "w    No     2200      0.9035\n",
       "     Yes     235      0.0965"
      ]
     },
     "execution_count": 13,
     "metadata": {},
     "output_type": "execute_result"
    }
   ],
   "source": [
    "working_data"
   ]
  },
  {
   "cell_type": "markdown",
   "metadata": {},
   "source": [
    "Looking at our count column, we can see that no grouping has an observation count less than 10 observations. We can then assume that our distribution will be approximately normal. We are also going to assume that the job applicants are operating independently from one another since our sample size is comparably small to the population of total job applicants in America and that the researchers sampled job applicants randomly for our study.\n",
    "\n",
    "So with these assumptions out of the way, we can now conduct our hypothesis test. We performed the hypothesis test via Bayesian and frequentist methods to compare and validate our test results. \n",
    "\n",
    "For the Bayesian approach, we took the proportional difference between black and white callbacks and found the standard error given our sample size. We found that the callback rate for black individuals was around 3.20% less than the callback rate for white individuals with a standard error of .78%. With a 95% confidence interval, the true proportional difference between the callback rate of black and white job applicants is expected to be between 1.53% either way. Since our samples found that black job applicants were called back at a rate less than twice the expected callback rate, we rejected the null hypothesis in favor of the alternative that black and white job applicants are not called back at the same rate. \n",
    "\n",
    "To illustrate this point, here is the probability mass function (PMF) of our distribution centered around the zero-difference callback rate. Notice how the observed proportional difference marked in green lies outside our confidence interval marked in red."
   ]
  },
  {
   "cell_type": "code",
   "execution_count": 14,
   "metadata": {},
   "outputs": [
    {
     "data": {
      "image/png": "[encoded data removed]",
      "text/plain": [
       "<Figure size 432x288 with 1 Axes>"
      ]
     },
     "metadata": {
      "needs_background": "light"
     },
     "output_type": "display_data"
    }
   ],
   "source": [
    "np.random.seed(42)\n",
    "\n",
    "# Create 10,000 normally distributed  samples centered around the proposed mean and spread given our standard error\n",
    "bins = 100\n",
    "samples = np.random.normal(p_not, std_err, 10000)\n",
    "\n",
    "# Plot the generated points as a histogram with markers indicating confidence interval, mean, and observation\n",
    "_ = plt.hist(samples, bins=bins, density=True, color='blue')\n",
    "_ = plt.axvline(p_not, color='black', linestyle='dashed', linewidth=3)\n",
    "_ = plt.axvline(confidence_interval_b[0], color='red', linestyle='dashed', linewidth=1)\n",
    "_ = plt.axvline(confidence_interval_b[1], color='red', linestyle='dashed', linewidth=1)\n",
    "_ = plt.axvline(p_diff, color='green', linestyle='dashed', linewidth=2)\n",
    "_ = plt.xlabel('Proportional Difference in Callbacks Between Black and White Job Applicants')\n",
    "_ = plt.ylabel('PMF')\n",
    "_ = plt.legend(('Hypothesis Difference', 'Interval', 'Interval', 'Observed Difference'), loc='upper right')\n",
    "plt.show()"
   ]
  },
  {
   "cell_type": "markdown",
   "metadata": {},
   "source": [
    "To validate our conclusions, we compared our results from the Bayesian approach to Null Hypothesis Testing against our results using the frequentist approach to Null Hypothesis Tests known as bootstrapping. In bootstrapping, we combine and permute the black and white applicant pool to create a new sample of black and white applicants. The idea here is that if we indiscriminately choose applicants and categorize them as black and white applicants, we should get around the same proportion of black callbacks as our observed sample if there is no race discrimination in the hiring process. This proportion of black callbacks (known as our bootstrap replicate) is then taken 10,000 times to create a distribution of proportions that we can base our conclusions from. To illustrate this distribution, here is the PMF after taking 10,000 bootstrap replicates for black callback proportions."
   ]
  },
  {
   "cell_type": "code",
   "execution_count": 21,
   "metadata": {},
   "outputs": [
    {
     "data": {
      "image/png": "[encoded data removed]",
      "text/plain": [
       "<Figure size 432x288 with 1 Axes>"
      ]
     },
     "metadata": {
      "needs_background": "light"
     },
     "output_type": "display_data"
    }
   ],
   "source": [
    "# Create a line for the center of the distribution around the average of the bootstrap replicates\n",
    "rep_center = np.percentile(replicates,[50])\n",
    "\n",
    "# Plot the bootstrap replicates as a PMF histogram\n",
    "bins = 100\n",
    "_ = plt.hist(replicates, bins=bins, density=True, color='blue')\n",
    "\n",
    "# Create vertical lines for all the generated data that we collected\n",
    "obs_mu_line = plt.axvline(working_data.loc[('b','Yes'), 'proportion'], color='green', linestyle='dashed', linewidth=2, label='Observed Difference')\n",
    "rep_mean_line = plt.axvline(rep_center, color='black', linestyle='dashed', linewidth=3, label='Hypothesis Difference')\n",
    "interval_low = plt.axvline(confidence_interval_f[0], color='red', linestyle='dashed', linewidth=1, label='Interval')\n",
    "interval_high = plt.axvline(confidence_interval_f[1], color='red', linestyle='dashed', linewidth=1, label='Interval')\n",
    "_ = plt.xlabel('Proportional Callback Rate for Black Job Applicants')\n",
    "_ = plt.ylabel('PMF')\n",
    "_ = plt.legend(handles=[obs_mu_line, rep_mean_line, interval_low, interval_high], loc='upper right')\n",
    "plt.show()"
   ]
  },
  {
   "cell_type": "markdown",
   "metadata": {},
   "source": [
    "After taking 10,000 callback rate samples from our original observation, we find that the average black job applicant callback rate is 8.05% with a standard deviation of 0.39%. With a 95% confidence interval, the true population callback rate for black applicants should be between 7.31% and 8.79%. However, our observations show that black applicants were only being called back from potential employers at a rate of 6.45%. Our tests suggest that if we sample our job applicants indiscriminate of race, our observations outlie far enough to the point where our original assumptions are not true. Therefore, we reject the Null Hypothesis that black and white job applicants are not discriminated during the job application process in favor of the alternative that there exists job discrimination between black and white job applicants."
   ]
  },
  {
   "cell_type": "markdown",
   "metadata": {},
   "source": [
    "#### 5. Does your analysis mean that race/name is the most important factor in callback success? Why or why not? If not, how would you amend your analysis?"
   ]
  },
  {
   "cell_type": "markdown",
   "metadata": {},
   "source": [
    "The test we performed for statistical significance for the callback rate of black and white job applicants does not show that a person's name is the most important factor in the callback success rate; our test only showed that there is a statistically significant difference between black and white sounding names in the job application process. \n",
    "\n",
    "In order to find the most important factor for callback success rate with our given dataset, we can perform a Chi Squared Test between the two groups. The Chi Squared Test we would conduct would separate the dataset by race and look at each individual factor provided in the dataset. The expected observation count for each category would be the proportion of people that each factor applies to multiplied by the total number of people in each race. The Chi Squared statistic is the difference between the observation and expected values squared divided by the expected value. The factor with the greatest chi-squared value would be considered the greatest contributor for callback success rate given this particular dataset."
   ]
  }
 ],
 "metadata": {
  "kernelspec": {
   "display_name": "Python 3",
   "language": "python",
   "name": "python3"
  },
  "language_info": {
   "codemirror_mode": {
    "name": "ipython",
    "version": 3
   },
   "file_extension": ".py",
   "mimetype": "text/x-python",
   "name": "python",
   "nbconvert_exporter": "python",
   "pygments_lexer": "ipython3",
   "version": "3.7.3"
  }
 },
 "nbformat": 4,
 "nbformat_minor": 1
}
